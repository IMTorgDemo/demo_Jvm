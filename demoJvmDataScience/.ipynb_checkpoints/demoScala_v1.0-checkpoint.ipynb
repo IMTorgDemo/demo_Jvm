{
 "cells": [
  {
   "cell_type": "code",
   "execution_count": 6,
   "metadata": {},
   "outputs": [
    {
     "data": {
      "text/plain": [
       "defined class QuestScale\n",
       "defined class WeightScale\n"
      ]
     },
     "execution_count": 6,
     "metadata": {},
     "output_type": "execute_result"
    }
   ],
   "source": [
    "case class QuestScale(C:Int, E:Int, L:Int, U:Int)\n",
    "case class WeightScale(W_cc:Double, W_ce:Double, W_cu:Double, W_el:Double, W_ll:Double)"
   ]
  },
  {
   "cell_type": "code",
   "execution_count": 33,
   "metadata": {},
   "outputs": [
    {
     "data": {
      "text/plain": [
       "<function2>"
      ]
     },
     "execution_count": 33,
     "metadata": {},
     "output_type": "execute_result"
    }
   ],
   "source": [
    "val fScale = (w:WeightScale, q:QuestScale) => (\n",
    "    (w.W_cc * scala.math.pow(q.C, 2)) +\n",
    "    (w.W_ce * q.C * q.E) + \n",
    "    (w.W_cu * q.C * q.U) + \n",
    "    (w.W_el * q.E * q.L) + \n",
    "    (w.W_ll * scala.math.pow(q.L,2) )\n",
    ")"
   ]
  },
  {
   "cell_type": "code",
   "execution_count": 8,
   "metadata": {},
   "outputs": [
    {
     "data": {
      "text/plain": [
       "QuestScale(10,4,2,1000)"
      ]
     },
     "execution_count": 8,
     "metadata": {},
     "output_type": "execute_result"
    }
   ],
   "source": [
    "// Variables\n",
    "val quest_1 = new QuestScale(\n",
    "    C = 10,    //number of computers\n",
    "    E = 4,     //number of employees\n",
    "    L = 2,     //number of locations\n",
    "    U = 1000  //number of users\n",
    "    )"
   ]
  },
  {
   "cell_type": "code",
   "execution_count": 9,
   "metadata": {},
   "outputs": [
    {
     "data": {
      "text/plain": [
       "WeightScale(0.5,0.8,1.0,0.2,500.0)"
      ]
     },
     "execution_count": 9,
     "metadata": {},
     "output_type": "execute_result"
    }
   ],
   "source": [
    "// Weights\n",
    "val weight = new WeightScale(\n",
    "    W_cc = 0.5,\n",
    "    W_ce = 0.8,\n",
    "    W_cu = 1,\n",
    "    W_el = 0.2,\n",
    "    W_ll = 500\n",
    "    )"
   ]
  },
  {
   "cell_type": "code",
   "execution_count": 10,
   "metadata": {},
   "outputs": [
    {
     "data": {
      "text/plain": [
       "12083.6"
      ]
     },
     "execution_count": 10,
     "metadata": {},
     "output_type": "execute_result"
    }
   ],
   "source": [
    "fScale(weight, quest_1)"
   ]
  },
  {
   "cell_type": "code",
   "execution_count": 12,
   "metadata": {},
   "outputs": [
    {
     "data": {
      "text/plain": [
       "18058.0"
      ]
     },
     "execution_count": 12,
     "metadata": {},
     "output_type": "execute_result"
    }
   ],
   "source": [
    "fScale(weight, new QuestScale(4, 5, 6, 7))"
   ]
  },
  {
   "cell_type": "code",
   "execution_count": null,
   "metadata": {},
   "outputs": [],
   "source": []
  },
  {
   "cell_type": "code",
   "execution_count": null,
   "metadata": {},
   "outputs": [],
   "source": []
  },
  {
   "cell_type": "code",
   "execution_count": null,
   "metadata": {},
   "outputs": [],
   "source": []
  },
  {
   "cell_type": "code",
   "execution_count": 57,
   "metadata": {},
   "outputs": [
    {
     "data": {
      "text/plain": [
       "import scala.collection.mutable.{Map=>MutableMap}\n",
       "fScale: (w: WeightScale, q: QuestScale)Map[String,AnyVal]\n"
      ]
     },
     "execution_count": 57,
     "metadata": {},
     "output_type": "execute_result"
    }
   ],
   "source": [
    "// import mutable map as MutableMap\n",
    "import scala.collection.mutable.{Map => MutableMap}\n",
    "\n",
    "def fScale(w:WeightScale, q:QuestScale): Map[String,AnyVal]={\n",
    "    val result = (w.W_cc * scala.math.pow(q.C, 2)) +\n",
    "              (w.W_ce * q.C * q.E) + \n",
    "              (w.W_cu * q.C * q.U) + \n",
    "              (w.W_el * q.E * q.L) + \n",
    "              (w.W_ll * scala.math.pow(q.L,2) )\n",
    "    var resultMap = Map(\"C\"->q.C, \"E\"->q.E, \"L\"->q.L,\"U\"->q.U, \"S\"->result)\n",
    "    return resultMap\n",
    "}"
   ]
  },
  {
   "cell_type": "code",
   "execution_count": 70,
   "metadata": {},
   "outputs": [
    {
     "data": {
      "text/plain": [
       "import com.twosigma.beakerx.scala.table._\n"
      ]
     },
     "execution_count": 70,
     "metadata": {},
     "output_type": "execute_result"
    }
   ],
   "source": [
    "import com.twosigma.beakerx.scala.table._"
   ]
  },
  {
   "cell_type": "code",
   "execution_count": 74,
   "metadata": {},
   "outputs": [
    {
     "data": {
      "application/vnd.jupyter.widget-view+json": {
       "model_id": "ea4787b4-d308-4592-83f7-701ee0297231",
       "version_major": 2,
       "version_minor": 0
      },
      "method": "display_data"
     },
     "metadata": {},
     "output_type": "display_data"
    }
   ],
   "source": [
    "val Mesh = Seq(\n",
    "    fScale(weight, new QuestScale(1, 1, 1, 1)),\n",
    "    fScale(weight, new QuestScale(4, 5, 6, 7)),\n",
    "    fScale(weight, new QuestScale(11, 8, 1, 9)),\n",
    "    fScale(weight, new QuestScale(5, 200, 1, 5))\n",
    "    )\n",
    "\n",
    "val tbl = new TableDisplay(Mesh)\n",
    "tbl"
   ]
  },
  {
   "cell_type": "code",
   "execution_count": null,
   "metadata": {},
   "outputs": [],
   "source": [
    "val plot = new Plot {Title = \"Result in Size with Change in Questionnaire\"}\n",
    "plot.add(tbl.E)"
   ]
  },
  {
   "cell_type": "code",
   "execution_count": 85,
   "metadata": {},
   "outputs": [
    {
     "data": {
      "text/plain": [
       "[[Map(E -> 1, U -> 1, L -> 1, C -> 1, S -> 502.5), Map(E -> 5, U -> 7, L -> 6, C -> 4, S -> 18058.0), Map(E -> 8, U -> 9, L -> 1, C -> 11, S -> 731.5), Map(E -> 200, U -> 5, L -> 1, C -> 5, S -> 1377.5)]]"
      ]
     },
     "execution_count": 85,
     "metadata": {},
     "output_type": "execute_result"
    }
   ],
   "source": [
    "Mesh.toList"
   ]
  },
  {
   "cell_type": "code",
   "execution_count": 89,
   "metadata": {},
   "outputs": [
    {
     "ename": "<console>",
     "evalue": "1",
     "output_type": "error",
     "traceback": [
      "\u001b[1;31m<console>:1: error: identifier expected but character literal found.\u001b[0;0m",
      "\u001b[1;31mMesh.map(x: x -> x['E'])\u001b[0;0m",
      "\u001b[1;31m                   ^\u001b[0;0m"
     ]
    }
   ],
   "source": [
    "Mesh.map(x: x -> x['E'])"
   ]
  },
  {
   "cell_type": "code",
   "execution_count": 90,
   "metadata": {},
   "outputs": [
    {
     "data": {
      "application/vnd.jupyter.widget-view+json": {
       "model_id": "8183dcb2-1ac9-480e-b585-2c5ec973857d",
       "version_major": 2,
       "version_minor": 0
      },
      "method": "display_data"
     },
     "metadata": {},
     "output_type": "display_data"
    }
   ],
   "source": [
    "val plot = new Plot { title = \"Changing Point Size, Color, Shape\" }\n",
    "val y1 = Seq(6, 7, 12, 11, 8, 14)\n",
    "val y2 = y1.map(x => x - 1)\n",
    "val y3 = y1.map(x => x - 2)\n",
    "val y4 = y1.map(x => x - 3)\n",
    "plot.add(new Points { y = y1; x=y1 })\n",
    "plot.add(new Points {\n",
    "    y = y2\n",
    "    shape = ShapeType.CIRCLE\n",
    "})\n",
    "plot.add(new Points {\n",
    "    y = y3\n",
    "    size = 8.0\n",
    "    shape = ShapeType.DIAMOND\n",
    "})\n",
    "plot.add(new Points {\n",
    "    y = y4\n",
    "    size = 12.0\n",
    "    color = Color.orange\n",
    "    outlineColor = Color.red\n",
    "})"
   ]
  },
  {
   "cell_type": "code",
   "execution_count": 3,
   "metadata": {},
   "outputs": [
    {
     "name": "stdout",
     "output_type": "stream",
     "text": [
      "Added jar: [vegas_2.11-0.3.11.jar]\n"
     ]
    }
   ],
   "source": [
    "%classpath add jar /home/beakerx/doc/resources/jar/vegas_2.11-0.3.11.jar"
   ]
  },
  {
   "cell_type": "code",
   "execution_count": 9,
   "metadata": {},
   "outputs": [
    {
     "data": {
      "application/vnd.jupyter.widget-view+json": {
       "model_id": "5923e5d7-75e7-47b3-bd07-d4017528d407",
       "version_major": 2,
       "version_minor": 0
      },
      "method": "display_data"
     },
     "metadata": {},
     "output_type": "display_data"
    },
    {
     "name": "stdout",
     "output_type": "stream",
     "text": [
      "Added jars: [macro-compat_2.11-1.1.1.jar, vega-lite-1.2.0.jar, vegas-macros_2.11-0.3.11.jar, vega-3.0.0-rc4.jar, circe-core_2.11-0.7.0.jar, scalaz-core_2.11-7.1.1.jar, cats-kernel_2.11-0.9.0.jar, scala-library-2.11.8.jar, jawn-parser_2.11-0.10.4.jar, circe-generic_2.11-0.7.0.jar, cats-macros_2.11-0.9.0.jar, vegas_2.11-0.3.11.jar, circe-parser_2.11-0.7.0.jar, scala-parser-combinators_2.11-1.0.2.jar, shapeless_2.11-2.3.2.jar, scala-reflect-2.11.8.jar, circe-jawn_2.11-0.7.0.jar, cats-core_2.11-0.9.0.jar, machinist_2.11-0.6.1.jar, simulacrum_2.11-0.10.0.jar, scalafx_2.11-8.0.92-R10.jar, monocle-core_2.11-1.1.0.jar, circe-numbers_2.11-0.7.0.jar, scala-xml_2.11-1.0.2.jar, monocle-macro_2.11-1.1.0.jar]\n"
     ]
    },
    {
     "ename": "input is incomplete",
     "evalue": "input is incomplete",
     "output_type": "error",
     "traceback": [
      "\u001b[1;31minput is incomplete\u001b[0;0m"
     ]
    }
   ],
   "source": [
    "%classpath add mvn org.vegas-viz vegas_2.11 0.3.11\n",
    "//new com.google.gson.GsonBuilder().create().toJson(\"Hello\", System.out)"
   ]
  },
  {
   "cell_type": "code",
   "execution_count": 11,
   "metadata": {},
   "outputs": [
    {
     "name": "stderr",
     "output_type": "stream",
     "text": [
      "Graphics Device initialization failed for :  es2, sw\n",
      "Error initializing QuantumRenderer: no suitable pipeline found\n",
      "java.lang.RuntimeException: java.lang.RuntimeException: Error initializing QuantumRenderer: no suitable pipeline found\n",
      "\tat com.sun.javafx.tk.quantum.QuantumRenderer.getInstance(QuantumRenderer.java:280)\n",
      "\tat com.sun.javafx.tk.quantum.QuantumToolkit.init(QuantumToolkit.java:221)\n",
      "\tat com.sun.javafx.tk.Toolkit.getToolkit(Toolkit.java:205)\n",
      "\tat com.sun.javafx.application.PlatformImpl.startup(PlatformImpl.java:209)\n",
      "\tat javafx.embed.swing.JFXPanel.initFx(JFXPanel.java:215)\n",
      "\tat javafx.embed.swing.JFXPanel.<init>(JFXPanel.java:230)\n",
      "\tat vegas.render.WindowRenderer$.init$lzycompute(WindowRenderer.scala:84)\n",
      "\tat vegas.render.WindowRenderer$.init(WindowRenderer.scala:84)\n",
      "\tat vegas.render.WindowRenderer.show(WindowRenderer.scala:77)\n",
      "\tat $line16.$read$$iw$$iw$$iw$$iw$$iw$$iw$$iw$$iw$$iw$$iw$$iw$$iw$$iw$$iw$$iw$$iw$$iw$$iw$$iw$$iw$$iw$$iw$$iw$$iw$$anonfun$1.apply(<console>:97)\n",
      "\tat $line16.$read$$iw$$iw$$iw$$iw$$iw$$iw$$iw$$iw$$iw$$iw$$iw$$iw$$iw$$iw$$iw$$iw$$iw$$iw$$iw$$iw$$iw$$iw$$iw$$iw$$anonfun$1.apply(<console>:97)\n",
      "\tat vegas.render.ShowRender$$anon$1.apply(ShowRender.scala:12)\n",
      "\tat vegas.render.ShowRender$$anon$1.apply(ShowRender.scala:11)\n",
      "\tat vegas.DSL.SpecBuilder$SpecBuilderRenderOps$.show$extension(SpecDSL.scala:99)\n",
      "\tat $line16.$read$$iw$$iw$$iw$$iw$$iw$$iw$$iw$$iw$$iw$$iw$$iw$$iw$$iw$$iw$$iw$$iw$$iw$$iw$$iw$$iw$$iw$$iw$$iw$$iw.<init>(<console>:96)\n",
      "\tat $line16.$read$$iw$$iw$$iw$$iw$$iw$$iw$$iw$$iw$$iw$$iw$$iw$$iw$$iw$$iw$$iw$$iw$$iw$$iw$$iw$$iw$$iw$$iw$$iw.<init>(<console>:105)\n",
      "\tat $line16.$read$$iw$$iw$$iw$$iw$$iw$$iw$$iw$$iw$$iw$$iw$$iw$$iw$$iw$$iw$$iw$$iw$$iw$$iw$$iw$$iw$$iw$$iw.<init>(<console>:107)\n",
      "\tat $line16.$read$$iw$$iw$$iw$$iw$$iw$$iw$$iw$$iw$$iw$$iw$$iw$$iw$$iw$$iw$$iw$$iw$$iw$$iw$$iw$$iw$$iw.<init>(<console>:109)\n",
      "\tat $line16.$read$$iw$$iw$$iw$$iw$$iw$$iw$$iw$$iw$$iw$$iw$$iw$$iw$$iw$$iw$$iw$$iw$$iw$$iw$$iw$$iw.<init>(<console>:111)\n",
      "\tat $line16.$read$$iw$$iw$$iw$$iw$$iw$$iw$$iw$$iw$$iw$$iw$$iw$$iw$$iw$$iw$$iw$$iw$$iw$$iw$$iw.<init>(<console>:113)\n",
      "\tat $line16.$read$$iw$$iw$$iw$$iw$$iw$$iw$$iw$$iw$$iw$$iw$$iw$$iw$$iw$$iw$$iw$$iw$$iw$$iw.<init>(<console>:115)\n",
      "\tat $line16.$read$$iw$$iw$$iw$$iw$$iw$$iw$$iw$$iw$$iw$$iw$$iw$$iw$$iw$$iw$$iw$$iw$$iw.<init>(<console>:117)\n",
      "\tat $line16.$read$$iw$$iw$$iw$$iw$$iw$$iw$$iw$$iw$$iw$$iw$$iw$$iw$$iw$$iw$$iw$$iw.<init>(<console>:119)\n",
      "\tat $line16.$read$$iw$$iw$$iw$$iw$$iw$$iw$$iw$$iw$$iw$$iw$$iw$$iw$$iw$$iw$$iw.<init>(<console>:121)\n",
      "\tat $line16.$read$$iw$$iw$$iw$$iw$$iw$$iw$$iw$$iw$$iw$$iw$$iw$$iw$$iw$$iw.<init>(<console>:123)\n",
      "\tat $line16.$read$$iw$$iw$$iw$$iw$$iw$$iw$$iw$$iw$$iw$$iw$$iw$$iw$$iw.<init>(<console>:125)\n",
      "\tat $line16.$read$$iw$$iw$$iw$$iw$$iw$$iw$$iw$$iw$$iw$$iw$$iw$$iw.<init>(<console>:127)\n",
      "\tat $line16.$read$$iw$$iw$$iw$$iw$$iw$$iw$$iw$$iw$$iw$$iw$$iw.<init>(<console>:129)\n",
      "\tat $line16.$read$$iw$$iw$$iw$$iw$$iw$$iw$$iw$$iw$$iw$$iw.<init>(<console>:131)\n",
      "\tat $line16.$read$$iw$$iw$$iw$$iw$$iw$$iw$$iw$$iw$$iw.<init>(<console>:133)\n",
      "\tat $line16.$read$$iw$$iw$$iw$$iw$$iw$$iw$$iw$$iw.<init>(<console>:135)\n",
      "\tat $line16.$read$$iw$$iw$$iw$$iw$$iw$$iw$$iw.<init>(<console>:137)\n",
      "\tat $line16.$read$$iw$$iw$$iw$$iw$$iw$$iw.<init>(<console>:139)\n",
      "\tat $line16.$read$$iw$$iw$$iw$$iw$$iw.<init>(<console>:141)\n",
      "\tat $line16.$read$$iw$$iw$$iw$$iw.<init>(<console>:143)\n",
      "\tat $line16.$read$$iw$$iw$$iw.<init>(<console>:145)\n",
      "\tat $line16.$read$$iw$$iw.<init>(<console>:147)\n",
      "\tat $line16.$read$$iw.<init>(<console>:149)\n",
      "\tat $line16.$read.<init>(<console>:151)\n",
      "\tat $line16.$read$.<init>(<console>:155)\n",
      "\tat $line16.$read$.<clinit>(<console>)\n",
      "\tat $line16.$eval$.$print$lzycompute(<console>:7)\n",
      "\tat $line16.$eval$.$print(<console>:6)\n",
      "\tat $line16.$eval.$print(<console>)\n",
      "\tat sun.reflect.NativeMethodAccessorImpl.invoke0(Native Method)\n",
      "\tat sun.reflect.NativeMethodAccessorImpl.invoke(NativeMethodAccessorImpl.java:62)\n",
      "\tat sun.reflect.DelegatingMethodAccessorImpl.invoke(DelegatingMethodAccessorImpl.java:43)\n",
      "\tat java.lang.reflect.Method.invoke(Method.java:498)\n",
      "\tat scala.tools.nsc.interpreter.IMain$ReadEvalPrint.call(IMain.scala:793)\n",
      "\tat scala.tools.nsc.interpreter.IMain$Request.loadAndRun(IMain.scala:1054)\n",
      "\tat scala.tools.nsc.interpreter.IMain$WrappedRequest$$anonfun$loadAndRunReq$1.apply(IMain.scala:645)\n",
      "\tat scala.tools.nsc.interpreter.IMain$WrappedRequest$$anonfun$loadAndRunReq$1.apply(IMain.scala:644)\n",
      "\tat scala.reflect.internal.util.ScalaClassLoader$class.asContext(ScalaClassLoader.scala:31)\n",
      "\tat scala.reflect.internal.util.AbstractFileClassLoader.asContext(AbstractFileClassLoader.scala:19)\n",
      "\tat scala.tools.nsc.interpreter.IMain$WrappedRequest.loadAndRunReq(IMain.scala:644)\n",
      "\tat scala.tools.nsc.interpreter.IMain.interpret(IMain.scala:576)\n",
      "\tat scala.tools.nsc.interpreter.IMain.interpret(IMain.scala:572)\n",
      "\tat com.twosigma.beakerx.scala.evaluator.ScalaEvaluatorGlue.evaluate(ScalaEvaluatorGlue.scala:118)\n",
      "\tat com.twosigma.beakerx.scala.evaluator.ScalaCodeRunner.call(ScalaCodeRunner.java:47)\n",
      "\tat com.twosigma.beakerx.scala.evaluator.ScalaCodeRunner.call(ScalaCodeRunner.java:29)\n",
      "\tat java.util.concurrent.FutureTask.run(FutureTask.java:266)\n",
      "\tat java.util.concurrent.ThreadPoolExecutor.runWorker(ThreadPoolExecutor.java:1142)\n",
      "\tat java.util.concurrent.ThreadPoolExecutor$Worker.run(ThreadPoolExecutor.java:617)\n",
      "\tat java.lang.Thread.run(Thread.java:745)\n",
      "Caused by: java.lang.RuntimeException: Error initializing QuantumRenderer: no suitable pipeline found\n",
      "\tat com.sun.javafx.tk.quantum.QuantumRenderer$PipelineRunnable.init(QuantumRenderer.java:94)\n",
      "\tat com.sun.javafx.tk.quantum.QuantumRenderer$PipelineRunnable.run(QuantumRenderer.java:124)\n",
      "\t... 1 more\n"
     ]
    },
    {
     "ename": "java.lang.RuntimeException",
     "evalue": " No toolkit found",
     "output_type": "error",
     "traceback": [
      "\u001b[1;31mjava.lang.RuntimeException: No toolkit found\u001b[0;0m",
      "\u001b[1;31m  at com.sun.javafx.tk.Toolkit.getToolkit(Toolkit.java:217)\u001b[0;0m",
      "\u001b[1;31m  at com.sun.javafx.application.PlatformImpl.startup(PlatformImpl.java:209)\u001b[0;0m",
      "\u001b[1;31m  at javafx.embed.swing.JFXPanel.initFx(JFXPanel.java:215)\u001b[0;0m",
      "\u001b[1;31m  at javafx.embed.swing.JFXPanel.<init>(JFXPanel.java:230)\u001b[0;0m",
      "\u001b[1;31m  at vegas.render.WindowRenderer$.init$lzycompute(WindowRenderer.scala:84)\u001b[0;0m",
      "\u001b[1;31m  at vegas.render.WindowRenderer$.init(WindowRenderer.scala:84)\u001b[0;0m",
      "\u001b[1;31m  at vegas.render.WindowRenderer.show(WindowRenderer.scala:77)\u001b[0;0m",
      "\u001b[1;31m  at $anonfun$1.apply(<console>:97)\u001b[0;0m",
      "\u001b[1;31m  at $anonfun$1.apply(<console>:97)\u001b[0;0m",
      "\u001b[1;31m  at vegas.render.ShowRender$$anon$1.apply(ShowRender.scala:12)\u001b[0;0m",
      "\u001b[1;31m  at vegas.render.ShowRender$$anon$1.apply(ShowRender.scala:11)\u001b[0;0m",
      "\u001b[1;31m  at vegas.DSL.SpecBuilder$SpecBuilderRenderOps$.show$extension(SpecDSL.scala:99)\u001b[0;0m",
      "\u001b[1;31m  ... 50 elided\u001b[0;0m"
     ]
    }
   ],
   "source": [
    "import vegas._\n",
    "import vegas.render.WindowRenderer._\n",
    "\n",
    "val plot = Vegas(\"Country Pop\").\n",
    "  withData(\n",
    "    Seq(\n",
    "      Map(\"country\" -> \"USA\", \"population\" -> 314),\n",
    "      Map(\"country\" -> \"UK\", \"population\" -> 64),\n",
    "      Map(\"country\" -> \"DK\", \"population\" -> 80)\n",
    "    )\n",
    "  ).\n",
    "  encodeX(\"country\", Nom).\n",
    "  encodeY(\"population\", Quant).\n",
    "  mark(Bar)\n",
    "\n",
    "plot.show"
   ]
  },
  {
   "cell_type": "code",
   "execution_count": null,
   "metadata": {},
   "outputs": [],
   "source": []
  }
 ],
 "metadata": {
  "kernelspec": {
   "display_name": "Scala",
   "language": "scala",
   "name": "scala"
  },
  "language_info": {
   "codemirror_mode": "text/x-scala",
   "file_extension": ".scala",
   "mimetype": "",
   "name": "Scala",
   "nbconverter_exporter": "",
   "version": "2.11.12"
  }
 },
 "nbformat": 4,
 "nbformat_minor": 2
}
