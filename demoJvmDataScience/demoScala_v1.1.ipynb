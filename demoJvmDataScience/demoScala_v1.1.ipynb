{
 "cells": [
  {
   "cell_type": "markdown",
   "metadata": {},
   "source": [
    "# Review of Alternative JVM Workflows for Data Science\n",
    "\n",
    "JVM-based languages, Java in particular, are popular tools for enterprise and web app systems, such as Java Spring.  Introducing a data science pipeline with these systems offers many alternatives.  In this document, we focus on jvm-language data science workflows that integrate closely with these environments.  \n",
    "\n",
    "An alternative approach might be to use more traditional data science tools (R or Python) in a MicroService.  While this is often a strong, isolated approach, it can lead to inflexibility in team dynamics, and difficult in data transferability when the functionality in question is considered a core component of the underlying system."
   ]
  },
  {
   "cell_type": "markdown",
   "metadata": {},
   "source": [
    "__Requirements__\n",
    "\n",
    "This document reviews the various approaches and provides a recommendation based on the following workflow requirements:\n",
    "\n",
    "* simple, stand-alone tool\n",
    "  - preferably one language\n",
    "  - docker notebook deploy\n",
    "  - file export\n",
    "* strong notebook support for reproducible research\n",
    "  - archive previous work\n",
    "  - simulate results\n",
    "  - visualize analysis\n",
    "* notebook-to-file code insertion\n",
    "  - functional: inputs / outputs\n",
    "  - no manual modifications\n",
    "* strong community and ease of use\n",
    "  - notebook\n",
    "  - tools and libs"
   ]
  },
  {
   "cell_type": "markdown",
   "metadata": {},
   "source": [
    "__Recommendation__\n",
    "\n",
    "Scala\n",
    "\n",
    "* Commonly-accepted approach in data science (ds) community\n",
    "  - more recent / popular libraries ds\n",
    "  - more popular notebook tools\n",
    "  - simple, stand-alone notebook-to-file workflow (java repl more for teaching, and notebook dependent on polyglot jvm tools, including java)\n",
    "* Ease of use\n",
    "  - inferred type system\n",
    "  - balance between dynamic (python) and static (java) language characteristics\n",
    "  - expected ds tools and libs: matrix, dataframe, visualizations\n",
    "* Functional programming\n",
    "  - modeling verbs of immutable data, not objects\n",
    "  - not concerned with state\n",
    "  - pure functions: output based on input"
   ]
  },
  {
   "cell_type": "markdown",
   "metadata": {},
   "source": [
    "# Framework Assessments"
   ]
  },
  {
   "cell_type": "markdown",
   "metadata": {},
   "source": [
    "### Java\n",
    "\n",
    "Really impressive polygot environments.  Transformation of the Beaker notebook (formerly Jupyter competitor) which makes use of the strengths of many languages.  Fun demo, [here](https://hub.mybinder.org/user/twosigma-beakerx-f82v308h/notebooks/StartHere.ipynb).  Also, SciJava project has goal of being a polyglot kernel for Jupyter.\n",
    "\n",
    "_History lesson:_ Beaker notebooks offered multiple languages, with shared data structures (specifically dataframes), within the same notebook - awesome!  Doing this in Jupyter (R2Py) is difficult and doesn't work so well.  And it was supported by a profitable firm.  But, it was never accepted by the open-source community, and never had contributors (such as through extensions), and was eventually disbanded.  This could be caused by a variety of reasons: late to market, less publicity.  But, overall, I think data science doesn't value multiple language use, or interoperability.  Focusing on multiple languages detracts from advancements in math and algorithmic implementation.\n",
    "\n",
    "\n",
    "\n",
    "__Pros__\n",
    "\n",
    "* possible to use Jupyter notebooks, not just repl\n",
    "* includes lambda for more functional programming\n",
    "* seamless integration with cyber repo\n",
    "* (?good) aimed a polyglot environment: Groovy (default), Python, Beanshell, Clojure, Kotlin, Java, Javascript, Ruby and Scala\n",
    "* TwoSigma support, from previous Beaker notebook polyglot project\n",
    "\n",
    "__Cons__\n",
    "\n",
    "* most strong tools are still in Beta\n",
    "* polyglot: reliant on other languages, including scala for support (analytics, plots, etc)\n",
    "* notebook-to-file not straight-forward because OOP nature and differences between REPL, Notebook, and compile implementation\n",
    "* low popularity / weak community - almost totally supported by TwoSigma company which has low following\n",
    "* science toolkits have virtually no following\n",
    "* despite java being an old, popular language - it was late to the game\n",
    "* mostly aimed at educational pursuits for learning java\n",
    "* fewer libs\n",
    "\n",
    "\n",
    "__References__\n",
    "\n",
    "* [JShell repl](https://www.javaworld.com/article/2971152/core-java/what-repl-means-for-java.html)\n",
    "* [open repl](http://www.javarepl.com/term.html)\n",
    "* [notebook kernel]()\n",
    "* [science toolbox](http://opensource.twosigma.com/)\n",
    "* [docker notebook deploy](http://beakerx.com/)\n",
    "* [tablesaw: pandas alternative](https://github.com/jtablesaw/tablesaw)"
   ]
  },
  {
   "cell_type": "markdown",
   "metadata": {},
   "source": [
    "### Scala\n",
    "\n",
    "\n",
    "__Pros__\n",
    "\n",
    "* strong acceptance from the data science community (notebooks, tools, etc.) \n",
    "* can make use of other jvm languages/libs, but not reliant on them (very independent)\n",
    "* strong functional programming foundations\n",
    "* used in implementation of many new platforms (spark, flink, etc) (?good) maybe not really relevant, here\n",
    "* scalable work - distributed, unstructured if you need it (?good) maybe not really relevant, here\n",
    "* simple Scala-library.jar for integration with Java\n",
    "\n",
    "\n",
    "__Cons__\n",
    "\n",
    "* hockey-stick learning curve: advanced language features are considered difficult\n",
    "* good data science community, but not great like python or R (more data engineering oriented)\n",
    "* using spark or other big data libs could be considered over-kill\n",
    "* integration with Gradle may be more involved (need help)\n",
    "\n",
    "\n",
    "__References__\n",
    "\n",
    "* [lib spire: number types and numeric abstractions](https://github.com/non/spire)\n",
    "* [lib algebird: abstract algebra](https://github.com/twitter/algebird)\n",
    "* [lib scalaz: more functional programming extensions](https://github.com/scalaz/scalaz)\n",
    "* [lib vegas: vega-lite plots and visualizations](https://www.vegas-viz.org/)\n",
    "* [lib spark: dataframes like R](https://docs.databricks.com/spark/latest/dataframes-datasets/introduction-to-dataframes-scala.html)"
   ]
  },
  {
   "cell_type": "markdown",
   "metadata": {},
   "source": [
    "### Additional discussions \n",
    "\n",
    "* [Scala without spark](https://datascience.stackexchange.com/questions/12106/scala-vs-java-if-youre-not-going-to-use-spark)\n",
    "* [Scala vs Java for data engineering](https://dzone.com/articles/scala-vs-java-for-big-data-engineering)"
   ]
  },
  {
   "cell_type": "code",
   "execution_count": null,
   "metadata": {},
   "outputs": [],
   "source": []
  },
  {
   "cell_type": "markdown",
   "metadata": {},
   "source": [
    "# Scala Integration with Java Codebase"
   ]
  },
  {
   "cell_type": "markdown",
   "metadata": {},
   "source": [
    "To simply use the `scala-library-2.10.3.jar` with java, check-out the [mvnrepository](https://mvnrepository.com/artifact/org.scala-lang/scala-library/2.10.3) download the jar from [here](http://central.maven.org/maven2/org/scala-lang/scala-library/2.10.3/)\n",
    "\n",
    "Test out with the following code:\n",
    "\n",
    "```\n",
    "$ cd Example\n",
    "$ scalac companion.scala\n",
    "$ javac -cp ../lib/scala-library-<VERSION>.jar:. TestCompanion.java\n",
    "$ java -cp ../lib/scala-library-<VERSION>.jar:. TestCompanion\n",
    "```"
   ]
  },
  {
   "cell_type": "code",
   "execution_count": null,
   "metadata": {},
   "outputs": [],
   "source": []
  },
  {
   "cell_type": "markdown",
   "metadata": {},
   "source": [
    "# Example: Scale Implementation"
   ]
  },
  {
   "cell_type": "markdown",
   "metadata": {},
   "source": [
    "### Closure using case classes"
   ]
  },
  {
   "cell_type": "code",
   "execution_count": 1,
   "metadata": {},
   "outputs": [
    {
     "data": {
      "text/plain": [
       "defined class QuestScale\n",
       "defined class WeightScale\n"
      ]
     },
     "execution_count": 1,
     "metadata": {},
     "output_type": "execute_result"
    }
   ],
   "source": [
    "case class QuestScale(C:Int, E:Int, L:Int, U:Int)\n",
    "case class WeightScale(W_cc:Double, W_ce:Double, W_cu:Double, W_el:Double, W_ll:Double)"
   ]
  },
  {
   "cell_type": "code",
   "execution_count": 2,
   "metadata": {},
   "outputs": [
    {
     "data": {
      "text/plain": [
       "<function2>"
      ]
     },
     "execution_count": 2,
     "metadata": {},
     "output_type": "execute_result"
    }
   ],
   "source": [
    "val fScale = (w:WeightScale, q:QuestScale) => (\n",
    "    (w.W_cc * scala.math.pow(q.C, 2)) +\n",
    "    (w.W_ce * q.C * q.E) + \n",
    "    (w.W_cu * q.C * q.U) + \n",
    "    (w.W_el * q.E * q.L) + \n",
    "    (w.W_ll * scala.math.pow(q.L,2) )\n",
    ")"
   ]
  },
  {
   "cell_type": "code",
   "execution_count": 3,
   "metadata": {},
   "outputs": [
    {
     "data": {
      "text/plain": [
       "QuestScale(10,4,2,1000)"
      ]
     },
     "execution_count": 3,
     "metadata": {},
     "output_type": "execute_result"
    }
   ],
   "source": [
    "// Variables\n",
    "val quest_1 = new QuestScale(\n",
    "    C = 10,    //number of computers\n",
    "    E = 4,     //number of employees\n",
    "    L = 2,     //number of locations\n",
    "    U = 1000  //number of users\n",
    "    )"
   ]
  },
  {
   "cell_type": "code",
   "execution_count": 4,
   "metadata": {},
   "outputs": [
    {
     "data": {
      "text/plain": [
       "WeightScale(0.5,0.8,1.0,0.2,500.0)"
      ]
     },
     "execution_count": 4,
     "metadata": {},
     "output_type": "execute_result"
    }
   ],
   "source": [
    "// Weights\n",
    "val weight = new WeightScale(\n",
    "    W_cc = 0.5,\n",
    "    W_ce = 0.8,\n",
    "    W_cu = 1,\n",
    "    W_el = 0.2,\n",
    "    W_ll = 500\n",
    "    )"
   ]
  },
  {
   "cell_type": "code",
   "execution_count": 5,
   "metadata": {},
   "outputs": [
    {
     "data": {
      "text/plain": [
       "12083.6"
      ]
     },
     "execution_count": 5,
     "metadata": {},
     "output_type": "execute_result"
    }
   ],
   "source": [
    "fScale(weight, quest_1)"
   ]
  },
  {
   "cell_type": "code",
   "execution_count": 6,
   "metadata": {},
   "outputs": [
    {
     "data": {
      "text/plain": [
       "18058.0"
      ]
     },
     "execution_count": 6,
     "metadata": {},
     "output_type": "execute_result"
    }
   ],
   "source": [
    "fScale(weight, new QuestScale(4, 5, 6, 7))"
   ]
  },
  {
   "cell_type": "code",
   "execution_count": null,
   "metadata": {},
   "outputs": [],
   "source": []
  },
  {
   "cell_type": "code",
   "execution_count": null,
   "metadata": {},
   "outputs": [],
   "source": []
  },
  {
   "cell_type": "markdown",
   "metadata": {},
   "source": [
    "### Closure Returning a Map"
   ]
  },
  {
   "cell_type": "code",
   "execution_count": 12,
   "metadata": {},
   "outputs": [
    {
     "data": {
      "text/plain": [
       "fScale: (w: WeightScale, q: QuestScale)Map[String,AnyVal]\n"
      ]
     },
     "execution_count": 12,
     "metadata": {},
     "output_type": "execute_result"
    }
   ],
   "source": [
    "// import mutable map as MutableMap\n",
    "//import scala.collection.mutable.{Map => MutableMap}\n",
    "\n",
    "def fScale(w:WeightScale, q:QuestScale): Map[String,AnyVal]={\n",
    "    val result = (w.W_cc * scala.math.pow(q.C, 2)) +\n",
    "              (w.W_ce * q.C * q.E) + \n",
    "              (w.W_cu * q.C * q.U) + \n",
    "              (w.W_el * q.E * q.L) + \n",
    "              (w.W_ll * scala.math.pow(q.L,2) )\n",
    "    var resultMap = Map(\"C\"->q.C, \"E\"->q.E, \"L\"->q.L,\"U\"->q.U, \"S\"->result)\n",
    "    return resultMap\n",
    "}"
   ]
  },
  {
   "cell_type": "code",
   "execution_count": 13,
   "metadata": {},
   "outputs": [
    {
     "data": {
      "text/plain": [
       "import com.twosigma.beakerx.scala.table._\n"
      ]
     },
     "execution_count": 13,
     "metadata": {},
     "output_type": "execute_result"
    }
   ],
   "source": [
    "import com.twosigma.beakerx.scala.table._"
   ]
  },
  {
   "cell_type": "code",
   "execution_count": 14,
   "metadata": {},
   "outputs": [
    {
     "data": {
      "application/vnd.jupyter.widget-view+json": {
       "model_id": "d2c5d7f3-eb76-44f3-aaef-cc0d0b432417",
       "version_major": 2,
       "version_minor": 0
      },
      "method": "display_data"
     },
     "metadata": {},
     "output_type": "display_data"
    }
   ],
   "source": [
    "val Mesh = Seq(\n",
    "    fScale(weight, new QuestScale(1, 1, 1, 1)),\n",
    "    fScale(weight, new QuestScale(4, 5, 6, 7)),\n",
    "    fScale(weight, new QuestScale(11, 8, 1, 9)),\n",
    "    fScale(weight, new QuestScale(5, 200, 1, 5))\n",
    "    )\n",
    "\n",
    "val tbl = new TableDisplay(Mesh)\n",
    "tbl"
   ]
  },
  {
   "cell_type": "code",
   "execution_count": null,
   "metadata": {},
   "outputs": [],
   "source": []
  },
  {
   "cell_type": "markdown",
   "metadata": {},
   "source": [
    "### Static Object returning a value"
   ]
  },
  {
   "cell_type": "code",
   "execution_count": 16,
   "metadata": {},
   "outputs": [
    {
     "data": {
      "text/plain": [
       "$line29.$read$$iw$$iw$$iw$$iw$$iw$$iw$$iw$$iw$$iw$$iw$$iw$$iw$$iw$$iw$$iw$$iw$$iw$$iw$$iw$$iw$$iw$$iw$$iw$$iw$Analytics$@1d5b130"
      ]
     },
     "execution_count": 16,
     "metadata": {},
     "output_type": "execute_result"
    }
   ],
   "source": [
    "object Analytics{\n",
    "    def fScale(w:WeightScale, q:QuestScale):Double = {\n",
    "        val result = (w.W_cc * scala.math.pow(q.C, 2)) +\n",
    "        (w.W_ce * q.C * q.E) + \n",
    "        (w.W_cu * q.C * q.U) + \n",
    "        (w.W_el * q.E * q.L) + \n",
    "        (w.W_ll * scala.math.pow(q.L,2) )\n",
    "        return result\n",
    "    }\n",
    "}"
   ]
  },
  {
   "cell_type": "code",
   "execution_count": null,
   "metadata": {},
   "outputs": [],
   "source": []
  },
  {
   "cell_type": "code",
   "execution_count": null,
   "metadata": {},
   "outputs": [],
   "source": []
  },
  {
   "cell_type": "markdown",
   "metadata": {},
   "source": [
    "# Implemented Version"
   ]
  },
  {
   "cell_type": "markdown",
   "metadata": {},
   "source": [
    "## v1.0"
   ]
  },
  {
   "cell_type": "code",
   "execution_count": 17,
   "metadata": {},
   "outputs": [
    {
     "data": {
      "text/plain": [
       "$line30.$read$$iw$$iw$Analytics$@7b8ece41"
      ]
     },
     "execution_count": 17,
     "metadata": {},
     "output_type": "execute_result"
    }
   ],
   "source": [
    "import scala.collection.Map\n",
    "\n",
    "case class QuestScale(C:Int, E:Int, L:Int, U:Int)\n",
    "case class WeightScale(W_cc:Double, W_ce:Double, W_cu:Double, W_el:Double, W_ll:Double)\n",
    "\n",
    "object Analytics{\n",
    "    def fScale(w:WeightScale, q:QuestScale):Double = {\n",
    "        val result = (w.W_cc * scala.math.pow(q.C, 2)) +\n",
    "        (w.W_ce * q.C * q.E) + \n",
    "        (w.W_cu * q.C * q.U) + \n",
    "        (w.W_el * q.E * q.L) + \n",
    "        (w.W_ll * scala.math.pow(q.L,2) )\n",
    "        return result\n",
    "    }\n",
    "}\n",
    "\n"
   ]
  },
  {
   "cell_type": "code",
   "execution_count": null,
   "metadata": {},
   "outputs": [],
   "source": []
  },
  {
   "cell_type": "markdown",
   "metadata": {},
   "source": [
    "END OF DOCUMENT"
   ]
  }
 ],
 "metadata": {
  "kernelspec": {
   "display_name": "Scala",
   "language": "scala",
   "name": "scala"
  },
  "language_info": {
   "codemirror_mode": "text/x-scala",
   "file_extension": ".scala",
   "mimetype": "",
   "name": "Scala",
   "nbconverter_exporter": "",
   "version": "2.11.12"
  }
 },
 "nbformat": 4,
 "nbformat_minor": 2
}
