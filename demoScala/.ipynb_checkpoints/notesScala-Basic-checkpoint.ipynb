{
 "cells": [
  {
   "cell_type": "markdown",
   "metadata": {},
   "source": [
    "# Basics"
   ]
  },
  {
   "cell_type": "markdown",
   "metadata": {},
   "source": [
    "__Scala is object-oriented__\n",
    "\n",
    "Scala is a pure object-oriented language in the sense that every value is an object. Types and behavior of objects are described by classes and traits. Classes are extended by subclassing and a flexible mixin-based composition mechanism as a clean replacement for multiple inheritance."
   ]
  },
  {
   "cell_type": "markdown",
   "metadata": {},
   "source": [
    "__Scala is functional__\n",
    "\n",
    "Scala is also a functional language in the sense that every function is a value. Scala provides a lightweight syntax for defining anonymous functions, it supports higher-order functions, it allows functions to be nested, and supports currying. Scala’s case classes and its built-in support for pattern matching model algebraic types used in many functional programming languages. Singleton objects provide a convenient way to group functions that aren’t members of a class.\n",
    "\n",
    "Furthermore, Scala’s notion of pattern matching naturally extends to the processing of XML data with the help of right-ignoring sequence patterns, by way of general extension via extractor objects. In this context, for comprehensions are useful for formulating queries. These features make Scala ideal for developing applications like web services."
   ]
  },
  {
   "cell_type": "markdown",
   "metadata": {},
   "source": [
    "__Compiling__\n",
    "\n",
    "```\n",
    "$ scalac main.scala\n",
    "```\n",
    "\n",
    "You will see that two classfiles have been generated: Main.class and Main$.class. The Main$ is the class that actually implements the singleton."
   ]
  },
  {
   "cell_type": "code",
   "execution_count": 9,
   "metadata": {},
   "outputs": [
    {
     "data": {
      "text/plain": [
       "20"
      ]
     },
     "execution_count": 9,
     "metadata": {},
     "output_type": "execute_result"
    }
   ],
   "source": [
    "// type inference\n",
    "var y = 10\n",
    "val x = 10\n",
    "y = 20"
   ]
  },
  {
   "cell_type": "code",
   "execution_count": 10,
   "metadata": {},
   "outputs": [
    {
     "ename": "<console>",
     "evalue": "74",
     "output_type": "error",
     "traceback": [
      "\u001b[1;31m<console>:74: error: reassignment to val\u001b[0;0m",
      "\u001b[1;31m       x = 20\u001b[0;0m",
      "\u001b[1;31m         ^\u001b[0;0m"
     ]
    }
   ],
   "source": [
    "x = 20"
   ]
  },
  {
   "cell_type": "code",
   "execution_count": 11,
   "metadata": {},
   "outputs": [
    {
     "data": {
      "text/plain": [
       "a"
      ]
     },
     "execution_count": 11,
     "metadata": {},
     "output_type": "execute_result"
    }
   ],
   "source": [
    "res0"
   ]
  },
  {
   "cell_type": "markdown",
   "metadata": {},
   "source": [
    "This syntax of \"typing\" things with a colon is used in many more contexts and is generally called type ascription."
   ]
  },
  {
   "cell_type": "code",
   "execution_count": 3,
   "metadata": {},
   "outputs": [
    {
     "data": {
      "text/plain": [
       "10.0"
      ]
     },
     "execution_count": 3,
     "metadata": {},
     "output_type": "execute_result"
    }
   ],
   "source": [
    "var z:Int = 10\n",
    "var x:Double = 10"
   ]
  },
  {
   "cell_type": "code",
   "execution_count": 7,
   "metadata": {},
   "outputs": [
    {
     "data": {
      "text/plain": [
       "null"
      ]
     },
     "execution_count": 7,
     "metadata": {},
     "output_type": "execute_result"
    }
   ],
   "source": [
    "// lazy val\n",
    "// It is equivalent to val except that its value is computed lazily, upon first reference to the lazy val.\n",
    "// Lazy local values can help us make our code cleaner by making small refactorings easier. \n",
    "// simulate function arguments\n",
    "val args = Array(\"SLFJ\",\"LAFJK\",\"ELFKJ\")\n",
    "val start = \"S\"\n",
    "val end = \"K\"\n",
    "val arg1 = args(0).toLowerCase\n",
    "if(args.nonEmpty && arg1.startsWith(start) && arg1.endsWith(end)) {\n",
    "  // do something\n",
    "}"
   ]
  },
  {
   "cell_type": "code",
   "execution_count": 8,
   "metadata": {},
   "outputs": [
    {
     "data": {
      "text/plain": [
       "null"
      ]
     },
     "execution_count": 8,
     "metadata": {},
     "output_type": "execute_result"
    }
   ],
   "source": [
    "// But we have a problem - if args is empty, this will fail with an ArrayIndexOutOfBoundsException, because arg is assigned before we check for non-emptiness.\n",
    "// In order to fix this, we can simply turn the val into a lazy val:\n",
    "lazy val arg2 = args(0).toLowerCase\n",
    "if(args.nonEmpty && arg2.startsWith(start) && arg2.endsWith(end)) {\n",
    "  // do something\n",
    "}\n",
    "// This way args(0).toLowerCase will not be evaluated until the non-empty check is positive. It is also guaranteed that it will be evaluated at most once."
   ]
  },
  {
   "cell_type": "code",
   "execution_count": null,
   "metadata": {},
   "outputs": [],
   "source": [
    "// local methods\n",
    "// Local methods can greatly improve readability. They allow you to give local but meaningful names to small pieces of your code while still keeping it concise.\n",
    "//   - Local method can refer to all the values visible at the point where it's defined. For example, our checkArg method can access the start and end parameters of its outer method. If it were a plain private method, it would have to accept them as its own parameters.\n",
    "//   - Local method is visible only where it's actually needed. We do not pollute other namespaces. This also makes it easier to read the code.\n",
    "def processArguments(args: Array[String], start: String, end: String) = {\n",
    "  def checkArg(arg: String) = \n",
    "    arg.startsWith(start) && arg.endsWith(end)\n",
    "  if(args.nonEmpty && checkArg(args(0).toLowerCase)) {\n",
    "    // do something\n",
    "  }\n",
    "}"
   ]
  },
  {
   "cell_type": "code",
   "execution_count": 46,
   "metadata": {},
   "outputs": [
    {
     "name": "stdout",
     "output_type": "stream",
     "text": [
      "3\n"
     ]
    },
    {
     "data": {
      "text/plain": [
       "null"
      ]
     },
     "execution_count": 46,
     "metadata": {},
     "output_type": "execute_result"
    }
   ],
   "source": [
    "// blocks\n",
    "// you can assign a block to a variable, or pass a block as a method parameter, because blocks are expressions, i.e. they evaluate to some value\n",
    "// The value \"returned\" from a block is the value of last expression in that block\n",
    "println({\n",
    "  val x = 1 + 1\n",
    "  x + 1\n",
    "}) "
   ]
  },
  {
   "cell_type": "code",
   "execution_count": null,
   "metadata": {},
   "outputs": [],
   "source": [
    "// The value can be arbitrary expression. Even a block is an expression and can be assigned to a variable. \n",
    "// This comes in handy when we need to perform some more complex computations to obtain the value, e.g.\n",
    "val adjustedString: String = {\n",
    "  val str = fetchSomeString()\n",
    "  str.substring(0, str.length-1).toUpperCase\n",
    "}"
   ]
  },
  {
   "cell_type": "markdown",
   "metadata": {},
   "source": [
    "__Types in Scala__\n",
    "\n",
    "Scala’s powerful type system allows for very rich expression. Some of its chief features are:\n",
    "\n",
    "- parametric polymorphism roughly, generic programming\n",
    "- (local) type inference roughly, why you needn’t say val i: Int = 12: Int\n",
    "- existential quantification roughly, defining something for some unnamed type\n",
    "- views we’ll learn these next week; roughly, “castability” of values of one type to another\n"
   ]
  },
  {
   "cell_type": "code",
   "execution_count": null,
   "metadata": {},
   "outputs": [],
   "source": []
  },
  {
   "cell_type": "code",
   "execution_count": null,
   "metadata": {},
   "outputs": [],
   "source": []
  },
  {
   "cell_type": "markdown",
   "metadata": {},
   "source": [
    "# Strings"
   ]
  },
  {
   "cell_type": "code",
   "execution_count": 6,
   "metadata": {},
   "outputs": [
    {
     "ename": "<console>",
     "evalue": "73",
     "output_type": "error",
     "traceback": [
      "\u001b[1;31m<console>:73: error: value length is not a member of Char\u001b[0;0m",
      "\u001b[1;31m       'a'.length\u001b[0;0m",
      "\u001b[1;31m           ^\u001b[0;0m"
     ]
    }
   ],
   "source": [
    "'a'.length"
   ]
  },
  {
   "cell_type": "code",
   "execution_count": 7,
   "metadata": {},
   "outputs": [
    {
     "data": {
      "text/plain": [
       "1"
      ]
     },
     "execution_count": 7,
     "metadata": {},
     "output_type": "execute_result"
    }
   ],
   "source": [
    "\"a\".length"
   ]
  },
  {
   "cell_type": "code",
   "execution_count": 12,
   "metadata": {},
   "outputs": [
    {
     "data": {
      "text/plain": [
       "llo"
      ]
     },
     "execution_count": 12,
     "metadata": {},
     "output_type": "execute_result"
    }
   ],
   "source": [
    "\"hello\".length\n",
    "\"hello\".substring(2,4)\n",
    "\"hello\".replace(\"C\",\"3\")\n",
    "\"hello\".take(5)\n",
    "\"hello\".take(3)\n",
    "\"hello\".drop(2)"
   ]
  },
  {
   "cell_type": "code",
   "execution_count": 13,
   "metadata": {},
   "outputs": [
    {
     "data": {
      "text/plain": [
       "We have 45 apples"
      ]
     },
     "execution_count": 13,
     "metadata": {},
     "output_type": "execute_result"
    }
   ],
   "source": [
    "val n = 45\n",
    "s\"We have $n apples\""
   ]
  },
  {
   "cell_type": "code",
   "execution_count": 15,
   "metadata": {},
   "outputs": [
    {
     "data": {
      "text/plain": [
       "45.0"
      ]
     },
     "execution_count": 15,
     "metadata": {},
     "output_type": "execute_result"
    }
   ],
   "source": [
    "n.toDouble"
   ]
  },
  {
   "cell_type": "code",
   "execution_count": 16,
   "metadata": {},
   "outputs": [
    {
     "data": {
      "text/plain": [
       "2d"
      ]
     },
     "execution_count": 16,
     "metadata": {},
     "output_type": "execute_result"
    }
   ],
   "source": [
    "n.toHexString"
   ]
  },
  {
   "cell_type": "code",
   "execution_count": 33,
   "metadata": {},
   "outputs": [
    {
     "name": "stdout",
     "output_type": "stream",
     "text": [
      "My name is fred and I am 27 years old.\n",
      "My name is Fred and I am 27 years old.\n"
     ]
    },
    {
     "data": {
      "text/plain": [
       "null"
      ]
     },
     "execution_count": 33,
     "metadata": {},
     "output_type": "execute_result"
    }
   ],
   "source": [
    "// String Interpolation\n",
    "val name = \"fred\"\n",
    "val age = 27\n",
    "println(\"My name is \" + name + \" and I am \" + age + \" years old.\")\n",
    "//could be rewritten as:\n",
    "// note the leading 's'\n",
    "println(s\"My name is ${name.capitalize} and I am $age years old.\")"
   ]
  },
  {
   "cell_type": "code",
   "execution_count": 17,
   "metadata": {},
   "outputs": [
    {
     "data": {
      "text/plain": [
       "New line feed: \\n. Carriage return: \\r."
      ]
     },
     "execution_count": 17,
     "metadata": {},
     "output_type": "execute_result"
    }
   ],
   "source": [
    "// raw interpolator works just like s but it doesn't treat escape sequences\n",
    "raw\"New line feed: \\n. Carriage return: \\r.\""
   ]
  },
  {
   "cell_type": "code",
   "execution_count": 19,
   "metadata": {},
   "outputs": [
    {
     "data": {
      "text/plain": [
       "<h1>\n",
       "Big Title\n",
       "</h1>"
      ]
     },
     "execution_count": 19,
     "metadata": {},
     "output_type": "execute_result"
    }
   ],
   "source": [
    "val html = \"\"\"<h1>\n",
    "Big Title\n",
    "</h1>\"\"\""
   ]
  },
  {
   "cell_type": "code",
   "execution_count": 34,
   "metadata": {},
   "outputs": [
    {
     "ename": "<console>",
     "evalue": "4",
     "output_type": "error",
     "traceback": [
      "\u001b[1;31m<console>:4: error: ';' expected but string literal found.\u001b[0;0m",
      "\u001b[1;31ms\"sth\\\"more\"\u001b[0;0m",
      "\u001b[1;31m       ^\u001b[0;0m",
      "\u001b[1;31m<console>:4: error: unclosed string literal\u001b[0;0m",
      "\u001b[1;31ms\"sth\\\"more\"\u001b[0;0m",
      "\u001b[1;31m            ^\u001b[0;0m"
     ]
    }
   ],
   "source": [
    "//[ref: Problems](https://github.com/ghik/opinionated-scala/wiki/Basic-control-structures#string-interpolations-and-escaping)\n",
    "// Escape sequences in normal strings are treated during parsing of Scala code, so that in runtime there is no information left about it. With string interpolations it's not like that and it has some unpleasantly surprising consequences.\n",
    "// The compiler leaves the job of treating escapes to be done in runtime by the actual implementations of string interpolations. \n",
    "//For example if you change a perfectly correct string literal \n",
    "\"sth\\\"more\"\n",
    "//into a string interpolation \n",
    "s\"sth\\\"more\"\n",
    "//it will suddenly stop compiling because the parser will think that the escaped double quote is actually the end of the string."
   ]
  },
  {
   "cell_type": "code",
   "execution_count": 35,
   "metadata": {},
   "outputs": [
    {
     "data": {
      "text/plain": [
       "some long\n",
       "multiline text\n",
       "I don't have to \"escape\" \\ anything\n"
      ]
     },
     "execution_count": 35,
     "metadata": {},
     "output_type": "execute_result"
    }
   ],
   "source": [
    "// Multiline String\n",
    "val text = \"\"\"some long\n",
    "             |multiline text\n",
    "             |I don't have to \"escape\" \\ anything\n",
    "             |\"\"\".stripMargin\n",
    "text\n",
    "//The stripMargin method will search for | characters inside the string and strip each line to only the contents after |."
   ]
  },
  {
   "cell_type": "markdown",
   "metadata": {},
   "source": [
    "# Conditionals and Program Flow"
   ]
  },
  {
   "cell_type": "markdown",
   "metadata": {},
   "source": [
    "Loops written using for comprehensions are somewhat less performant than while and do-while loops due to usage of lambdas, whose body must be compiled to a separate anonymous class. "
   ]
  },
  {
   "cell_type": "code",
   "execution_count": null,
   "metadata": {},
   "outputs": [],
   "source": [
    "val x = 5\n",
    "if(x < 10) {\n",
    "  println(\"<10\")\n",
    "} else if (x == 10) {\n",
    "  println(\"=10\")\n",
    "} else {\n",
    "  println(\">10\")\n",
    "}"
   ]
  },
  {
   "cell_type": "code",
   "execution_count": null,
   "metadata": {},
   "outputs": [],
   "source": [
    "// In Java, if-else is purely imperative structure, whereas in Scala it is a valid expression that can be assigned to variables or passed as arguments. \n",
    "// Therefore, the above example can be refactored to:\n",
    "val x = 5\n",
    "println(\n",
    "  if(x < 10) {\n",
    "    \"<10\"\n",
    "  } else if(x == 10) {\n",
    "    \"=10\"\n",
    "  } else {\n",
    "    \">10\"\n",
    "  }\n",
    ")"
   ]
  },
  {
   "cell_type": "code",
   "execution_count": null,
   "metadata": {},
   "outputs": [],
   "source": [
    "// This can be further simplified - we don't need to wrap bodies of if and else into a block. They can also be arbitrary expressions:\n",
    "println(if(x < 10) \"<10\" else if(x == 10) \"=10\" else \">10\")"
   ]
  },
  {
   "cell_type": "code",
   "execution_count": null,
   "metadata": {},
   "outputs": [],
   "source": [
    "// for loop \n",
    "val args: Array[String] = fetchArgs()\n",
    "for(arg <- args) {\n",
    "  println(arg)\n",
    "}\n",
    "// (x to y) creates an object which represents an integer range from x to y, inclusively\n",
    "for(i <- (0 to args.length-1)) {\n",
    "  println(args(i))\n",
    "}\n",
    "//The for \"loop\" above is actually just a syntactic sugar for calling the foreach method which takes some action and invokes it for every element. The above example is equivalent to:\n",
    "val args: Array[String] = fetchArgs()\n",
    "args.foreach(arg => println(arg))\n",
    "(0 to args.length-1).foreach(i => println(args(i)))\n",
    "// The first loop can be even shorter: \n",
    "args.foreach(println)"
   ]
  },
  {
   "cell_type": "code",
   "execution_count": 94,
   "metadata": {},
   "outputs": [
    {
     "name": "stdout",
     "output_type": "stream",
     "text": [
      "1\n",
      "2\n",
      "3\n",
      "4\n",
      "5\n",
      "5\n",
      "4\n",
      "3\n",
      "2\n",
      "1\n"
     ]
    },
    {
     "data": {
      "text/plain": [
       "[[1, 2, 3, 4, 5]]"
      ]
     },
     "execution_count": 94,
     "metadata": {},
     "output_type": "execute_result"
    }
   ],
   "source": [
    "val r = 1 to 5\n",
    "\n",
    "r.foreach(println)\n",
    "(5 to 1 by -1) foreach println\n",
    "(5.0 to 1.0 by .5) foreach println\n",
    "(5.0 to 1.0 by 0.5) foreach println"
   ]
  },
  {
   "cell_type": "code",
   "execution_count": null,
   "metadata": {},
   "outputs": [],
   "source": [
    "// while\n",
    "while(i < 100) {\n",
    "  println(i)\n",
    "  i += 1\n",
    "}"
   ]
  },
  {
   "cell_type": "code",
   "execution_count": null,
   "metadata": {},
   "outputs": [],
   "source": [
    "// do-while\n",
    "do {\n",
    "  println(i)\n",
    "  i -= 1\n",
    "} while(i >= 0)"
   ]
  },
  {
   "cell_type": "code",
   "execution_count": 95,
   "metadata": {},
   "outputs": [
    {
     "name": "stdout",
     "output_type": "stream",
     "text": [
      "i 0\n",
      "i 1\n",
      "i 2\n",
      "i 3\n",
      "i 4\n",
      "i 5\n",
      "i 6\n",
      "i 7\n",
      "i 8\n",
      "i 9\n"
     ]
    },
    {
     "data": {
      "text/plain": [
       "10"
      ]
     },
     "execution_count": 95,
     "metadata": {},
     "output_type": "execute_result"
    }
   ],
   "source": [
    "var i = 0\n",
    "while(i<10){println(\"i \"+ i); i +=1 }\n",
    "i"
   ]
  },
  {
   "cell_type": "code",
   "execution_count": 96,
   "metadata": {},
   "outputs": [
    {
     "name": "stdout",
     "output_type": "stream",
     "text": [
      "nay\n"
     ]
    },
    {
     "data": {
      "text/plain": [
       "null"
      ]
     },
     "execution_count": 96,
     "metadata": {},
     "output_type": "execute_result"
    }
   ],
   "source": [
    "if(i == 1) println(\"yay\") else println(\"nay\")"
   ]
  },
  {
   "cell_type": "code",
   "execution_count": 23,
   "metadata": {},
   "outputs": [
    {
     "name": "stdout",
     "output_type": "stream",
     "text": [
      "22\n"
     ]
    },
    {
     "data": {
      "text/plain": [
       "null"
      ]
     },
     "execution_count": 23,
     "metadata": {},
     "output_type": "execute_result"
    }
   ],
   "source": [
    "val rslt = \"22\".toInt\n",
    "println(rslt.toString)"
   ]
  },
  {
   "cell_type": "code",
   "execution_count": 29,
   "metadata": {},
   "outputs": [
    {
     "name": "stdout",
     "output_type": "stream",
     "text": [
      "doSomeCleanup()\n",
      "22\n",
      "doSomeCleanup()\n",
      "0\n"
     ]
    },
    {
     "data": {
      "text/plain": [
       "null"
      ]
     },
     "execution_count": 29,
     "metadata": {},
     "output_type": "execute_result"
    }
   ],
   "source": [
    "// Try-catch-finally\n",
    "def intOrZero(str: String): Int =\n",
    "  // Scala has some nice API to parse strings into numbers\n",
    "  try {\n",
    "      str.toInt\n",
    "  } catch {\n",
    "    case nfe: NumberFormatException => 0\n",
    "  } finally {\n",
    "    println(\"doSomeCleanup()\")\n",
    "  }\n",
    "println( intOrZero(\"22\") )\n",
    "println( intOrZero(\"a22\") )"
   ]
  },
  {
   "cell_type": "markdown",
   "metadata": {},
   "source": [
    "[more try-catch reference](https://github.com/ghik/opinionated-scala/wiki/Basic-control-structures#exceptions)"
   ]
  },
  {
   "cell_type": "markdown",
   "metadata": {},
   "source": [
    "```\n",
    "try {\n",
    "  remoteCalculatorService.add(1, 2)\n",
    "} catch {\n",
    "  case e: ServerIsDownException => log.error(e, \"the remote calculator service is unavailable. should have kept your trusty HP.\")\n",
    "} finally {\n",
    "  remoteCalculatorService.close()\n",
    "}\n",
    "\n",
    "// trys are also expression-oriented\n",
    "\n",
    "val result: Int = try {\n",
    "  remoteCalculatorService.add(1, 2)\n",
    "} catch {\n",
    "  case e: ServerIsDownException => {\n",
    "    log.error(e, \"the remote calculator service is unavailable. should have kept your trusty HP.\")\n",
    "    0\n",
    "  }\n",
    "} finally {\n",
    "  remoteCalculatorService.close()\n",
    "}\n",
    "```"
   ]
  },
  {
   "cell_type": "code",
   "execution_count": null,
   "metadata": {},
   "outputs": [],
   "source": []
  },
  {
   "cell_type": "markdown",
   "metadata": {},
   "source": [
    "# Collections and Combinators"
   ]
  },
  {
   "cell_type": "code",
   "execution_count": 105,
   "metadata": {},
   "outputs": [
    {
     "data": {
      "text/plain": [
       "Set(1, 2, 3)"
      ]
     },
     "execution_count": 105,
     "metadata": {},
     "output_type": "execute_result"
    }
   ],
   "source": [
    "var a = Array(1,2,3)\n",
    "a = (1 to 3).toArray\n",
    "a(0)\n",
    "a.toList\n",
    "a.toSet"
   ]
  },
  {
   "cell_type": "code",
   "execution_count": 108,
   "metadata": {},
   "outputs": [
    {
     "data": {
      "text/plain": [
       "tenedor"
      ]
     },
     "execution_count": 108,
     "metadata": {},
     "output_type": "execute_result"
    }
   ],
   "source": [
    "var m = Map(\"fork\"->\"tenedor\", \"spoon\"->\"cuchara\")\n",
    "m(\"fork\")"
   ]
  },
  {
   "cell_type": "code",
   "execution_count": 107,
   "metadata": {},
   "outputs": [
    {
     "data": {
      "text/plain": [
       "no lo se"
      ]
     },
     "execution_count": 107,
     "metadata": {},
     "output_type": "execute_result"
    }
   ],
   "source": [
    "var safeM = m.withDefaultValue(\"no lo se\")\n",
    "safeM(\"bottle\")"
   ]
  },
  {
   "cell_type": "code",
   "execution_count": 148,
   "metadata": {},
   "outputs": [
    {
     "data": {
      "text/plain": [
       "[1, 2, 3, 4, 5, 1, 2, 3, 4, 5]"
      ]
     },
     "execution_count": 148,
     "metadata": {},
     "output_type": "execute_result"
    }
   ],
   "source": [
    "// Array\n",
    "val numbers = Array(1, 2, 3, 4, 5, 1, 2, 3, 4, 5)"
   ]
  },
  {
   "cell_type": "code",
   "execution_count": 149,
   "metadata": {},
   "outputs": [
    {
     "data": {
      "text/plain": [
       "[[1, 2, 3, 4, 5, 1, 2, 3, 4, 5]]"
      ]
     },
     "execution_count": 149,
     "metadata": {},
     "output_type": "execute_result"
    }
   ],
   "source": [
    "// List\n",
    "val numbers = List(1, 2, 3, 4, 5, 1, 2, 3, 4, 5)"
   ]
  },
  {
   "cell_type": "code",
   "execution_count": null,
   "metadata": {},
   "outputs": [],
   "source": [
    "// Set\n",
    "val numbers = Set(1, 2, 3, 4, 5, 1, 2, 3, 4, 5)"
   ]
  },
  {
   "cell_type": "code",
   "execution_count": 152,
   "metadata": {},
   "outputs": [
    {
     "data": {
      "text/plain": [
       "(1,2)"
      ]
     },
     "execution_count": 152,
     "metadata": {},
     "output_type": "execute_result"
    }
   ],
   "source": [
    "// Tuple\n",
    "val hostPort = (\"localhost\", 80)\n",
    "hostPort._1\n",
    "hostPort match {\n",
    "    case (\"localhost\", port) => \"found it\"\n",
    "    case (host, port) => \"not here\"\n",
    "}\n",
    "1-> 2"
   ]
  },
  {
   "cell_type": "code",
   "execution_count": 153,
   "metadata": {},
   "outputs": [
    {
     "data": {
      "application/vnd.jupyter.widget-view+json": {
       "model_id": "f19a7a80-e124-4c86-9a91-9a7ede487f1e",
       "version_major": 2,
       "version_minor": 0
      },
      "method": "display_data"
     },
     "metadata": {},
     "output_type": "display_data"
    }
   ],
   "source": [
    "// Maps\n",
    "Map(1->2)\n",
    "Map(\"foo\"->\"bar\")"
   ]
  },
  {
   "cell_type": "code",
   "execution_count": null,
   "metadata": {},
   "outputs": [],
   "source": [
    "// Option\n",
    "// container that may or not hold something\n",
    "\n",
    "//???"
   ]
  },
  {
   "cell_type": "code",
   "execution_count": 160,
   "metadata": {},
   "outputs": [
    {
     "data": {
      "text/plain": [
       "[[2, 4, 6, 8]]"
      ]
     },
     "execution_count": 160,
     "metadata": {},
     "output_type": "execute_result"
    }
   ],
   "source": [
    "val numbers = List(1,2,3,4)\n",
    "numbers.map((x: Int)=> x*2)\n",
    "def timesTwo(x:Int):Int= x*2\n",
    "numbers.map(timesTwo)"
   ]
  },
  {
   "cell_type": "code",
   "execution_count": 161,
   "metadata": {},
   "outputs": [
    {
     "data": {
      "text/plain": [
       "null"
      ]
     },
     "execution_count": 161,
     "metadata": {},
     "output_type": "execute_result"
    }
   ],
   "source": [
    "numbers.foreach(timesTwo)"
   ]
  },
  {
   "cell_type": "code",
   "execution_count": 162,
   "metadata": {},
   "outputs": [
    {
     "data": {
      "text/plain": [
       "[[2, 4]]"
      ]
     },
     "execution_count": 162,
     "metadata": {},
     "output_type": "execute_result"
    }
   ],
   "source": [
    "numbers.filter((x:Int)=>x%2==0)"
   ]
  },
  {
   "cell_type": "code",
   "execution_count": 163,
   "metadata": {},
   "outputs": [
    {
     "data": {
      "text/plain": [
       "[[(1,6), (2,7), (3,8)]]"
      ]
     },
     "execution_count": 163,
     "metadata": {},
     "output_type": "execute_result"
    }
   ],
   "source": [
    "numbers.zip(List(6,7,8))"
   ]
  },
  {
   "cell_type": "code",
   "execution_count": 172,
   "metadata": {},
   "outputs": [
    {
     "data": {
      "text/plain": [
       "(List(1, 2, 3),List(4, 6, 7, 8))"
      ]
     },
     "execution_count": 172,
     "metadata": {},
     "output_type": "execute_result"
    }
   ],
   "source": [
    "var manynumbers = numbers ++ List(6,7,8)\n",
    "manynumbers.partition((x:Int)=>x < 4)"
   ]
  },
  {
   "cell_type": "code",
   "execution_count": 173,
   "metadata": {},
   "outputs": [
    {
     "data": {
      "text/plain": [
       "Some(1)"
      ]
     },
     "execution_count": 173,
     "metadata": {},
     "output_type": "execute_result"
    }
   ],
   "source": [
    "// find returns the first element of a collection that matches a predicate function.\n",
    "manynumbers.find((x:Int)=>x < 4)"
   ]
  },
  {
   "cell_type": "code",
   "execution_count": 175,
   "metadata": {},
   "outputs": [
    {
     "data": {
      "text/plain": [
       "[[2, 3, 4]]"
      ]
     },
     "execution_count": 175,
     "metadata": {},
     "output_type": "execute_result"
    }
   ],
   "source": [
    "numbers.drop(3)\n",
    "numbers.dropWhile(_ % 2 != 0)"
   ]
  },
  {
   "cell_type": "code",
   "execution_count": 180,
   "metadata": {},
   "outputs": [
    {
     "data": {
      "text/plain": [
       "10"
      ]
     },
     "execution_count": 180,
     "metadata": {},
     "output_type": "execute_result"
    }
   ],
   "source": [
    "numbers.foldLeft(0)((m: Int, n: Int) => m + n)   // 0 is starting value"
   ]
  },
  {
   "cell_type": "code",
   "execution_count": 183,
   "metadata": {},
   "outputs": [
    {
     "data": {
      "text/plain": [
       "[[5, 3, 2, 1]]"
      ]
     },
     "execution_count": 183,
     "metadata": {},
     "output_type": "execute_result"
    }
   ],
   "source": [
    "val nested = List(List(5,3),List(2,1))\n",
    "nested.flatten"
   ]
  },
  {
   "cell_type": "code",
   "execution_count": 188,
   "metadata": {},
   "outputs": [
    {
     "data": {
      "text/plain": [
       "[[10, 6, 4, 2]]"
      ]
     },
     "execution_count": 188,
     "metadata": {},
     "output_type": "execute_result"
    }
   ],
   "source": [
    "nested.flatMap(x => x.map(_ * 2) )"
   ]
  },
  {
   "cell_type": "code",
   "execution_count": 190,
   "metadata": {},
   "outputs": [
    {
     "data": {
      "text/plain": [
       "[[2, 4, 6, 8]]"
      ]
     },
     "execution_count": 190,
     "metadata": {},
     "output_type": "execute_result"
    }
   ],
   "source": [
    "// create your own\n",
    "def ourMap(numbers: List[Int], fn: Int => Int): List[Int] = {\n",
    "  numbers.foldRight(List[Int]()) { (x: Int, xs: List[Int]) =>\n",
    "    fn(x) :: xs\n",
    "  }\n",
    "}\n",
    "ourMap(numbers, timesTwo(_))"
   ]
  },
  {
   "cell_type": "code",
   "execution_count": 192,
   "metadata": {},
   "outputs": [
    {
     "data": {
      "application/vnd.jupyter.widget-view+json": {
       "model_id": "6f4b1d89-d2cd-4f45-968d-4b1d06180fe5",
       "version_major": 2,
       "version_minor": 0
      },
      "method": "display_data"
     },
     "metadata": {},
     "output_type": "display_data"
    }
   ],
   "source": [
    "// use with Maps, also\n",
    "val extensions = Map(\"steve\" -> 100, \"bob\" -> 101, \"joe\" -> 201)\n",
    "extensions.filter((namePhone: (String, Int)) => namePhone._2 < 200)\n",
    "//or\n",
    "extensions.filter({case (name, extension) => extension < 200})"
   ]
  },
  {
   "cell_type": "code",
   "execution_count": null,
   "metadata": {},
   "outputs": [],
   "source": []
  },
  {
   "cell_type": "markdown",
   "metadata": {},
   "source": [
    "# Pattern Matching"
   ]
  },
  {
   "cell_type": "markdown",
   "metadata": {},
   "source": [
    "- There is no break keyword needed after each case (there's no such keyword in Scala)\n",
    "- Each case has its own scope, i.e. you can declare local variables after each => sign without enclosing everything in a block.\n",
    "- If you forget the return value in one of the cases, i.e. write nothing after the => sign, Scala compiler will implicitly put () in there. You may run into similar problems as with the implicitly added else () clause.\n",
    "- If you don't provide the default case _ => something and matched value won't fall into any other case, a MatchError will be thrown."
   ]
  },
  {
   "cell_type": "code",
   "execution_count": 144,
   "metadata": {},
   "outputs": [
    {
     "data": {
      "text/plain": [
       "one"
      ]
     },
     "execution_count": 144,
     "metadata": {},
     "output_type": "execute_result"
    }
   ],
   "source": [
    "val times = 1\n",
    "times match {\n",
    "    case 1 => \"one\"\n",
    "    case 2 => \"two\"\n",
    "    case _ => \"some other number\"\n",
    "}"
   ]
  },
  {
   "cell_type": "code",
   "execution_count": 145,
   "metadata": {},
   "outputs": [
    {
     "data": {
      "text/plain": [
       "one"
      ]
     },
     "execution_count": 145,
     "metadata": {},
     "output_type": "execute_result"
    }
   ],
   "source": [
    "times match {\n",
    "    case i if i ==1 => \"one\"\n",
    "    case i if i ==2 => \"two\"\n",
    "    case _ => \"some other number\"\n",
    "}"
   ]
  },
  {
   "cell_type": "code",
   "execution_count": 146,
   "metadata": {},
   "outputs": [
    {
     "data": {
      "text/plain": [
       "bigger: (o: Any)Any\n"
      ]
     },
     "execution_count": 146,
     "metadata": {},
     "output_type": "execute_result"
    }
   ],
   "source": [
    "def bigger(o: Any): Any = {\n",
    "  o match {\n",
    "    case i: Int if i < 0 => i - 1\n",
    "    case i: Int => i + 1\n",
    "    case d: Double if d < 0.0 => d - 0.1\n",
    "    case d: Double => d + 0.1\n",
    "    case text: String => text + \"s\"\n",
    "  }\n",
    "}"
   ]
  },
  {
   "cell_type": "code",
   "execution_count": null,
   "metadata": {},
   "outputs": [],
   "source": [
    "// case classes designed for use with matching\n",
    "val hp20b = Calculator(\"HP\", \"20B\")\n",
    "val hp30b = Calculator(\"HP\", \"30B\")\n",
    "\n",
    "def calcType(calc: Calculator) = calc match {\n",
    "  case Calculator(\"HP\", \"20B\") => \"financial\"\n",
    "  case Calculator(\"HP\", \"48G\") => \"scientific\"\n",
    "  case Calculator(\"HP\", \"30B\") => \"business\"\n",
    "  case Calculator(ourBrand, ourModel) => \"Calculator: %s %s is of unknown type\".format(ourBrand, ourModel)\n",
    "}"
   ]
  },
  {
   "cell_type": "code",
   "execution_count": null,
   "metadata": {},
   "outputs": [],
   "source": [
    "// Other alternatives for that last match\n",
    "case Calculator(_, _) => \"Calculator of unknown type\"\n",
    "// OR we could simply not specify that it’s a Calculator at all.\n",
    "case _ => \"Calculator of unknown type\"\n",
    "// OR we could re-bind the matched value with another name\n",
    "case c@Calculator(_, _) => \"Calculator: %s of unknown type\".format(c)"
   ]
  },
  {
   "cell_type": "code",
   "execution_count": null,
   "metadata": {},
   "outputs": [],
   "source": [
    "// Inner Workings of Pattern Matching"
   ]
  },
  {
   "cell_type": "code",
   "execution_count": 40,
   "metadata": {},
   "outputs": [
    {
     "data": {
      "text/plain": [
       "f(g(yay))"
      ]
     },
     "execution_count": 40,
     "metadata": {},
     "output_type": "execute_result"
    }
   ],
   "source": [
    "// Function Composition\n",
    "def f(s:String) = \"f(\" + s + \")\"\n",
    "def g(s:String) = \"g(\" + s + \")\"\n",
    "val fcomposeg = f _ compose g _\n",
    "fcomposeg(\"yay\")"
   ]
  },
  {
   "cell_type": "code",
   "execution_count": 43,
   "metadata": {},
   "outputs": [
    {
     "name": "stdout",
     "output_type": "stream",
     "text": [
      "true\n",
      "false\n"
     ]
    },
    {
     "data": {
      "text/plain": [
       "null"
      ]
     },
     "execution_count": 43,
     "metadata": {},
     "output_type": "execute_result"
    }
   ],
   "source": [
    "// Partial Functions\n",
    "//A function works for every argument of the defined type. In other words, a function defined as (Int) => String takes any Int and returns a String.\n",
    "//A Partial Function is only defined for certain values of the defined type. A Partial Function (Int) => String might not accept every Int.\n",
    "val one: PartialFunction[Int, String] = {case 1 => \"one\"}\n",
    "println(one.isDefinedAt(1))\n",
    "println(one.isDefinedAt(2))"
   ]
  },
  {
   "cell_type": "code",
   "execution_count": 45,
   "metadata": {},
   "outputs": [
    {
     "name": "stdout",
     "output_type": "stream",
     "text": [
      "two\n",
      "something else\n"
     ]
    },
    {
     "data": {
      "text/plain": [
       "null"
      ]
     },
     "execution_count": 45,
     "metadata": {},
     "output_type": "execute_result"
    }
   ],
   "source": [
    "// orElse\n",
    "//PartialFunctions can be composed with something new, called orElse\n",
    "val two: PartialFunction[Int, String] = { case 2 => \"two\" }\n",
    "val wildcard: PartialFunction[Int, String] = { case _ => \"something else\" }\n",
    "val partial = one orElse two orElse wildcard\n",
    "println( partial(2) )\n",
    "println( partial(5) )"
   ]
  },
  {
   "cell_type": "code",
   "execution_count": 46,
   "metadata": {},
   "outputs": [
    {
     "data": {
      "text/plain": [
       "[[PhoneExt(steve,100)]]"
      ]
     },
     "execution_count": 46,
     "metadata": {},
     "output_type": "execute_result"
    }
   ],
   "source": [
    "// Predicate Function\n",
    "case class PhoneExt(name: String, ext: Int)\n",
    "val extensions = List(PhoneExt(\"steve\", 100), PhoneExt(\"robey\", 200))\n",
    "extensions.filter { case PhoneExt(name, extension) => extension < 200 }\n",
    "//Why does this work?\n",
    "//filter takes a function. In this case a predicate function of (PhoneExt) => Boolean.\n",
    "//A PartialFunction is a subtype of Function so filter can also take a PartialFunction!"
   ]
  },
  {
   "cell_type": "markdown",
   "metadata": {},
   "source": [
    "# Methods (def) and Functions"
   ]
  },
  {
   "cell_type": "markdown",
   "metadata": {},
   "source": [
    "Methods look and behave very similar to functions, but there are a few key differences between them.\n",
    "\n",
    "Methods are defined with the def keyword. def is followed by a name, parameter lists, a return type, and a body.\n",
    "\n",
    "A function that takes one argument is an instance of a Function1 Trait.  This trait defines the apply() syntactic sugar, allowing you to call an object like you would a function.  There is Function0 to Function22 (arbitrarily).  I've never needed a function with more than 22 arguments.  Does this mean that every time you define a method in your class, you’re actually getting an instance of Function*? No, methods in classes are methods. Methods defined standalone in the repl are Function* instances.\n",
    "\n",
    "Apply helps unify the duality of object and functional programming.  You can use classes as functions, and functions are just instances of classes (under the hood)."
   ]
  },
  {
   "cell_type": "code",
   "execution_count": null,
   "metadata": {},
   "outputs": [],
   "source": [
    "// method definition expects an expression after the = sign. The reason why we were able to put a block as a body of main is because a block is also an expression\n",
    "// shows why the = sign is used. It more clearly denotes the fact that method body is an expression which always evaluates to something rather than a block of imperative\n",
    "//  code which may optionally return a value\n",
    "object Main {\n",
    "  def main(args: Array[String]): Unit = {\n",
    "    println(\"Hello\")\n",
    "  }\n",
    "}"
   ]
  },
  {
   "cell_type": "code",
   "execution_count": null,
   "metadata": {},
   "outputs": [],
   "source": [
    "// since our block has only one statement inside, we could shorten our main method definition:\n",
    "def main(args: Array[String]): Unit = println(\"Hello\")"
   ]
  },
  {
   "cell_type": "code",
   "execution_count": null,
   "metadata": {},
   "outputs": [],
   "source": [
    "// procedural syntax: can be used for methods which return Unit (procedures). However, it is not recommended\n",
    "def main(args: Array[String]) {\n",
    "  println(\"Hello\")\n",
    "}"
   ]
  },
  {
   "cell_type": "code",
   "execution_count": null,
   "metadata": {},
   "outputs": [],
   "source": [
    "// Scala uses the square brackets [] to denote type parameters, as opposed to Java which uses angle brackets <>\n",
    "args: Array[String]"
   ]
  },
  {
   "cell_type": "markdown",
   "metadata": {},
   "source": [
    "__Predef Object__\n",
    "\n",
    "You may recall that in Java, there is no way to define \"global\" methods. Every method must be a member of some class. In Scala, we have the same rule - every method must come from a class or object. But you may have also noticed that we called our println method like it was global.\n",
    "\n",
    "The println method actually comes from an object scala.Predef in the Scala standard library which contains some basic utilities like console operations. This object is treated specially by the Scala compiler - all its members are automatically visible everywhere. That is why we were able to call println directly, without having to write Predef.println or scala.Predef.println."
   ]
  },
  {
   "cell_type": "code",
   "execution_count": 20,
   "metadata": {},
   "outputs": [
    {
     "data": {
      "text/plain": [
       "3"
      ]
     },
     "execution_count": 20,
     "metadata": {},
     "output_type": "execute_result"
    }
   ],
   "source": [
    "def three() = 1 + 2\n",
    "three"
   ]
  },
  {
   "cell_type": "code",
   "execution_count": 141,
   "metadata": {},
   "outputs": [
    {
     "data": {
      "text/plain": [
       "2"
      ]
     },
     "execution_count": 141,
     "metadata": {},
     "output_type": "execute_result"
    }
   ],
   "source": [
    "object addOne extends Function1[Int, Int]{\n",
    "    def apply(m:Int): Int = m + 1\n",
    "}\n",
    "addOne(1)"
   ]
  },
  {
   "cell_type": "code",
   "execution_count": 142,
   "metadata": {},
   "outputs": [
    {
     "data": {
      "text/plain": [
       "2"
      ]
     },
     "execution_count": 142,
     "metadata": {},
     "output_type": "execute_result"
    }
   ],
   "source": [
    "class AddOne extends Function1[Int, Int] {\n",
    "    def apply(m: Int): Int = m + 1\n",
    "}\n",
    "val plusOne = new AddOne()\n",
    "plusOne(1)"
   ]
  },
  {
   "cell_type": "code",
   "execution_count": null,
   "metadata": {},
   "outputs": [],
   "source": [
    "//or\n",
    "clas AddOne extends (Int=>Int){\n",
    "    def apply(m:Int): Int = m + 1\n",
    "}"
   ]
  },
  {
   "cell_type": "code",
   "execution_count": 30,
   "metadata": {},
   "outputs": [
    {
     "data": {
      "text/plain": [
       "sumOfSquares: (x: Int, y: Int)Int\n"
      ]
     },
     "execution_count": 30,
     "metadata": {},
     "output_type": "execute_result"
    }
   ],
   "source": [
    "// function definition\n",
    "def sumOfSquares(x: Int, y: Int): Int = {\n",
    "val x2 = x*x\n",
    "val y2 = y*y\n",
    "x2+y2\n",
    "}"
   ]
  },
  {
   "cell_type": "code",
   "execution_count": 31,
   "metadata": {},
   "outputs": [
    {
     "data": {
      "text/plain": [
       "sumOfSquaresShort1: (x: Int, y: Int)Int\n"
      ]
     },
     "execution_count": 31,
     "metadata": {},
     "output_type": "execute_result"
    }
   ],
   "source": [
    "def sumOfSquaresShort1(x: Int, y: Int): Int = x * x + y * y"
   ]
  },
  {
   "cell_type": "code",
   "execution_count": 32,
   "metadata": {},
   "outputs": [
    {
     "data": {
      "text/plain": [
       "sumOfSquaresShort2: (x: Int, y: Int)Int\n"
      ]
     },
     "execution_count": 32,
     "metadata": {},
     "output_type": "execute_result"
    }
   ],
   "source": [
    "def sumOfSquaresShort2(x: Int, y: Int) = x * x + y * y"
   ]
  },
  {
   "cell_type": "code",
   "execution_count": 33,
   "metadata": {},
   "outputs": [
    {
     "data": {
      "text/plain": [
       "113"
      ]
     },
     "execution_count": 33,
     "metadata": {},
     "output_type": "execute_result"
    }
   ],
   "source": [
    "sumOfSquares(7,8)"
   ]
  },
  {
   "cell_type": "code",
   "execution_count": 47,
   "metadata": {},
   "outputs": [
    {
     "name": "stdout",
     "output_type": "stream",
     "text": [
      "9\n"
     ]
    },
    {
     "data": {
      "text/plain": [
       "null"
      ]
     },
     "execution_count": 47,
     "metadata": {},
     "output_type": "execute_result"
    }
   ],
   "source": [
    "// Methods can take multiple parameter lists.\n",
    "def addThenMultiply(x: Int, y: Int)(multiplier: Int): Int = (x + y) * multiplier\n",
    "println(addThenMultiply(1, 2)(3))"
   ]
  },
  {
   "cell_type": "code",
   "execution_count": 48,
   "metadata": {},
   "outputs": [
    {
     "name": "stdout",
     "output_type": "stream",
     "text": [
      "Hello, beakerx!\n"
     ]
    },
    {
     "data": {
      "text/plain": [
       "null"
      ]
     },
     "execution_count": 48,
     "metadata": {},
     "output_type": "execute_result"
    }
   ],
   "source": [
    "// Or no parameter lists at all.\n",
    "def name: String = System.getProperty(\"user.name\")\n",
    "println(\"Hello, \" + name + \"!\")"
   ]
  },
  {
   "cell_type": "code",
   "execution_count": null,
   "metadata": {},
   "outputs": [],
   "source": []
  },
  {
   "cell_type": "code",
   "execution_count": 26,
   "metadata": {},
   "outputs": [
    {
     "data": {
      "text/plain": [
       "<function1>"
      ]
     },
     "execution_count": 26,
     "metadata": {},
     "output_type": "execute_result"
    }
   ],
   "source": [
    "// anonymous\n",
    "(x:Int) => x + 1\n",
    "//res<value>(1)"
   ]
  },
  {
   "cell_type": "code",
   "execution_count": 34,
   "metadata": {},
   "outputs": [
    {
     "data": {
      "text/plain": [
       "2"
      ]
     },
     "execution_count": 34,
     "metadata": {},
     "output_type": "execute_result"
    }
   ],
   "source": [
    "val addOne = (x:Int) => x + 1\n",
    "addOne(1)"
   ]
  },
  {
   "cell_type": "code",
   "execution_count": 36,
   "metadata": {},
   "outputs": [
    {
     "data": {
      "text/plain": [
       "100"
      ]
     },
     "execution_count": 36,
     "metadata": {},
     "output_type": "execute_result"
    }
   ],
   "source": [
    "val sq: Int => Int = x => x * x\n",
    "sq(10)"
   ]
  },
  {
   "cell_type": "code",
   "execution_count": 35,
   "metadata": {},
   "outputs": [
    {
     "data": {
      "text/plain": [
       "<function1>"
      ]
     },
     "execution_count": 35,
     "metadata": {},
     "output_type": "execute_result"
    }
   ],
   "source": [
    "{x:Int => println(\n",
    "\"hello\")\n",
    "}"
   ]
  },
  {
   "cell_type": "code",
   "execution_count": 37,
   "metadata": {},
   "outputs": [
    {
     "data": {
      "text/plain": [
       "6"
      ]
     },
     "execution_count": 37,
     "metadata": {},
     "output_type": "execute_result"
    }
   ],
   "source": [
    "// underscore is unnamed wildcard\n",
    "// here, it is an unnamed parameter\n",
    "val addOne: Int => Int = _ + 1\n",
    "addOne(5)"
   ]
  },
  {
   "cell_type": "code",
   "execution_count": 118,
   "metadata": {},
   "outputs": [
    {
     "data": {
      "text/plain": [
       "[[11, 12, 13]]"
      ]
     },
     "execution_count": 118,
     "metadata": {},
     "output_type": "execute_result"
    }
   ],
   "source": [
    "val add10: Int => Int = _ + 10\n",
    "List(1,2,3).map(add10)\n",
    "List(1,2,3).map(_+10)\n",
    "List(1,2,3).map(x=>x+10)"
   ]
  },
  {
   "cell_type": "code",
   "execution_count": 122,
   "metadata": {},
   "outputs": [
    {
     "data": {
      "text/plain": [
       "59"
      ]
     },
     "execution_count": 122,
     "metadata": {},
     "output_type": "execute_result"
    }
   ],
   "source": [
    "val s = Set(1,3,7)\n",
    "s.map(sq)\n",
    "val sSquared = s.map(sq)\n",
    "sSquared.filter(_<10)\n",
    "sSquared.reduce(_+_)"
   ]
  },
  {
   "cell_type": "code",
   "execution_count": 123,
   "metadata": {},
   "outputs": [
    {
     "data": {
      "text/plain": [
       "[[3]]"
      ]
     },
     "execution_count": 123,
     "metadata": {},
     "output_type": "execute_result"
    }
   ],
   "source": [
    "List(1,2,3).filter(_>2)"
   ]
  },
  {
   "cell_type": "code",
   "execution_count": 132,
   "metadata": {},
   "outputs": [
    {
     "data": {
      "text/plain": [
       "Set(1, 9)"
      ]
     },
     "execution_count": 132,
     "metadata": {},
     "output_type": "execute_result"
    }
   ],
   "source": [
    "// WTF???\n",
    "val nSq = for{n<-s} yield sq(n)\n",
    "for {n <- nSq if n<10} yield n\n",
    "for {n <- s; nSqd = n*n if nSqd<10} yield nSqd"
   ]
  },
  {
   "cell_type": "code",
   "execution_count": 38,
   "metadata": {},
   "outputs": [
    {
     "data": {
      "text/plain": [
       "[[Rarity, Applejack]]"
      ]
     },
     "execution_count": 38,
     "metadata": {},
     "output_type": "execute_result"
    }
   ],
   "source": [
    "// parameters of a repeated type\n",
    "def capitalizeAll(args: String*) = {\n",
    "  args.map { arg =>\n",
    "    arg.capitalize\n",
    "  }\n",
    "}\n",
    "\n",
    "capitalizeAll(\"rarity\", \"applejack\")"
   ]
  },
  {
   "cell_type": "code",
   "execution_count": 114,
   "metadata": {},
   "outputs": [
    {
     "name": "stdout",
     "output_type": "stream",
     "text": [
      "(3,1)\n",
      "3\n",
      "1\n"
     ]
    },
    {
     "data": {
      "text/plain": [
       "1"
      ]
     },
     "execution_count": 114,
     "metadata": {},
     "output_type": "execute_result"
    }
   ],
   "source": [
    "val divideInts = (x:Int, y:Int) => (x/y, x%y)\n",
    "val d = divideInts(10,3)\n",
    "println(d)\n",
    "println(d._1)\n",
    "println(d._2)\n",
    "val (div,mod) = divideInts(10,3)"
   ]
  },
  {
   "cell_type": "markdown",
   "metadata": {},
   "source": [
    "# Classes"
   ]
  },
  {
   "cell_type": "code",
   "execution_count": 39,
   "metadata": {},
   "outputs": [
    {
     "data": {
      "text/plain": [
       "defined class Calc\n"
      ]
     },
     "execution_count": 39,
     "metadata": {},
     "output_type": "execute_result"
    }
   ],
   "source": [
    "class Calc{\n",
    "    val brand: String = \"HP\"\n",
    "    def add(m:Int, n:Int)=m+n\n",
    "}"
   ]
  },
  {
   "cell_type": "code",
   "execution_count": 42,
   "metadata": {},
   "outputs": [
    {
     "data": {
      "text/plain": [
       "$line54.$read$$iw$$iw$Calc@4ba80009"
      ]
     },
     "execution_count": 42,
     "metadata": {},
     "output_type": "execute_result"
    }
   ],
   "source": [
    "val x = new Calc"
   ]
  },
  {
   "cell_type": "code",
   "execution_count": 44,
   "metadata": {},
   "outputs": [
    {
     "data": {
      "text/plain": [
       "3"
      ]
     },
     "execution_count": 44,
     "metadata": {},
     "output_type": "execute_result"
    }
   ],
   "source": [
    "x.add(1,2)"
   ]
  },
  {
   "cell_type": "code",
   "execution_count": 45,
   "metadata": {},
   "outputs": [
    {
     "data": {
      "text/plain": [
       "HP"
      ]
     },
     "execution_count": 45,
     "metadata": {},
     "output_type": "execute_result"
    }
   ],
   "source": [
    "x.brand"
   ]
  },
  {
   "cell_type": "code",
   "execution_count": 49,
   "metadata": {},
   "outputs": [
    {
     "data": {
      "text/plain": [
       "defined class Calculator\n"
      ]
     },
     "execution_count": 49,
     "metadata": {},
     "output_type": "execute_result"
    }
   ],
   "source": [
    "// constructors\n",
    "// example of how Scala is expression-oriented. The value color was bound based on an if/else expression. \n",
    "// Scala is highly expression-oriented: most things are expressions rather than statements.\n",
    "class Calculator(brand: String) {\n",
    "  /**\n",
    "   * A constructor\n",
    "   */\n",
    "  val color: String = if (brand == \"TI\") {\n",
    "    \"blue\"\n",
    "  } else if (brand == \"HP\") {\n",
    "    \"black\"\n",
    "  } else {\n",
    "    \"white\"\n",
    "  }\n",
    "\n",
    "  // An instance method\n",
    "  def add(m: Int, n: Int): Int = m + n\n",
    "}"
   ]
  },
  {
   "cell_type": "code",
   "execution_count": 133,
   "metadata": {},
   "outputs": [
    {
     "data": {
      "text/plain": [
       "$line145.$read$$iw$$iw$Foo@1856742b"
      ]
     },
     "execution_count": 133,
     "metadata": {},
     "output_type": "execute_result"
    }
   ],
   "source": [
    "// apply methods\n",
    "class Foo {}\n",
    "object FooMaker {\n",
    "    def apply() = new Foo\n",
    "}\n",
    "val newFoo = FooMaker()"
   ]
  },
  {
   "cell_type": "code",
   "execution_count": 134,
   "metadata": {},
   "outputs": [
    {
     "data": {
      "text/plain": [
       "0"
      ]
     },
     "execution_count": 134,
     "metadata": {},
     "output_type": "execute_result"
    }
   ],
   "source": [
    "class Bar {\n",
    "    def apply() = 0\n",
    "}\n",
    "val bar = new Bar\n",
    "bar()"
   ]
  },
  {
   "cell_type": "code",
   "execution_count": 50,
   "metadata": {},
   "outputs": [
    {
     "data": {
      "text/plain": [
       "defined class C\n"
      ]
     },
     "execution_count": 50,
     "metadata": {},
     "output_type": "execute_result"
    }
   ],
   "source": [
    "// methods vs functions\n",
    "// differences are subtle, don't dwell on it\n",
    "class C {\n",
    "    var acc = 0\n",
    "    def methodInc = { acc += 1 }\n",
    "    val functionInc = { () => acc += 1 }\n",
    "}"
   ]
  },
  {
   "cell_type": "code",
   "execution_count": 51,
   "metadata": {},
   "outputs": [
    {
     "data": {
      "text/plain": [
       "null"
      ]
     },
     "execution_count": 51,
     "metadata": {},
     "output_type": "execute_result"
    }
   ],
   "source": [
    "val c = new C\n",
    "c.methodInc"
   ]
  },
  {
   "cell_type": "code",
   "execution_count": 55,
   "metadata": {},
   "outputs": [
    {
     "data": {
      "text/plain": [
       "<function0>"
      ]
     },
     "execution_count": 55,
     "metadata": {},
     "output_type": "execute_result"
    }
   ],
   "source": [
    "c.functionInc"
   ]
  },
  {
   "cell_type": "code",
   "execution_count": 54,
   "metadata": {},
   "outputs": [
    {
     "data": {
      "text/plain": [
       "null"
      ]
     },
     "execution_count": 54,
     "metadata": {},
     "output_type": "execute_result"
    }
   ],
   "source": [
    "c.functionInc()"
   ]
  },
  {
   "cell_type": "code",
   "execution_count": 76,
   "metadata": {},
   "outputs": [
    {
     "data": {
      "text/plain": [
       "defined class Greeter\n"
      ]
     },
     "execution_count": 76,
     "metadata": {},
     "output_type": "execute_result"
    }
   ],
   "source": [
    "// Unit return type\n",
    "// The return type of the method greet is Unit, which says there’s nothing meaningful to return. It’s used similarly to void in Java and C. \n",
    "// (A difference is that because every Scala expression must have some value, there is actually a singleton value of type Unit, written (). It carries no information.)\n",
    "class Greeter(prefix: String, suffix: String) {\n",
    "  def greet(name: String): Unit =\n",
    "    println(prefix + name + suffix)\n",
    "}"
   ]
  },
  {
   "cell_type": "code",
   "execution_count": 125,
   "metadata": {},
   "outputs": [
    {
     "name": "stdout",
     "output_type": "stream",
     "text": [
      "true\n",
      "List(Point(1,2), Point(1,2))\n"
     ]
    },
    {
     "data": {
      "text/plain": [
       "null"
      ]
     },
     "execution_count": 125,
     "metadata": {},
     "output_type": "execute_result"
    }
   ],
   "source": [
    "// Case Classes\n",
    "case class Point(x:Int, y:Int)\n",
    "val a = Point(1,2)\n",
    "val b = Point(1,2)\n",
    "// compared by value\n",
    "println( a == b )\n",
    "println( List(a,b).filter(_.x<2) )"
   ]
  },
  {
   "cell_type": "code",
   "execution_count": 143,
   "metadata": {},
   "outputs": [
    {
     "data": {
      "text/plain": [
       "$line153.$read$$iw$$iw$$iw$$iw$$iw$$iw$$iw$$iw$$iw$$iw$$iw$$iw$$iw$$iw$$iw$$iw$$iw$$iw$$iw$$iw$IdFactory$@74c112bf"
      ]
     },
     "execution_count": 143,
     "metadata": {},
     "output_type": "execute_result"
    }
   ],
   "source": [
    "// Objects\n",
    "// Objects are single instances of their own definitions. You can think of them as singletons of their own classes.\n",
    "// Classes and Objects can have the same name. The object is called a ‘Companion Object’. We commonly use Companion Objects for Factories.\n",
    "// repl output: 'defined module IdFactory' -> objects are designed to be part of the module system\n",
    "object IdFactory{\n",
    "    private var counter = 0\n",
    "    def create():Int = {\n",
    "        counter += 1\n",
    "        counter\n",
    "    }\n",
    "}"
   ]
  },
  {
   "cell_type": "code",
   "execution_count": 78,
   "metadata": {},
   "outputs": [
    {
     "name": "stdout",
     "output_type": "stream",
     "text": [
      "1\n"
     ]
    },
    {
     "data": {
      "text/plain": [
       "null"
      ]
     },
     "execution_count": 78,
     "metadata": {},
     "output_type": "execute_result"
    }
   ],
   "source": [
    "println(IdFactory.create)"
   ]
  },
  {
   "cell_type": "code",
   "execution_count": 79,
   "metadata": {},
   "outputs": [
    {
     "name": "stdout",
     "output_type": "stream",
     "text": [
      "2\n"
     ]
    },
    {
     "data": {
      "text/plain": [
       "null"
      ]
     },
     "execution_count": 79,
     "metadata": {},
     "output_type": "execute_result"
    }
   ],
   "source": [
    "println(IdFactory.create)"
   ]
  },
  {
   "cell_type": "code",
   "execution_count": 139,
   "metadata": {},
   "outputs": [
    {
     "data": {
      "text/plain": [
       "$line150.$read$$iw$$iw$$iw$Bar@6c25db26"
      ]
     },
     "execution_count": 139,
     "metadata": {},
     "output_type": "execute_result"
    }
   ],
   "source": [
    "// remove the need to use new\n",
    "class Bar(foo: String)\n",
    "object Bar {\n",
    "    def apply(foo:String) = new Bar(foo)\n",
    "}"
   ]
  },
  {
   "cell_type": "code",
   "execution_count": 56,
   "metadata": {},
   "outputs": [
    {
     "data": {
      "text/plain": [
       "0.6309297535714574"
      ]
     },
     "execution_count": 56,
     "metadata": {},
     "output_type": "execute_result"
    }
   ],
   "source": [
    "// Inheritance\n",
    "// See Also Effective Scala points out that a Type alias is better than extends if the subclass isn’t actually different from the superclass. \n",
    "// A Tour of Scala describes Subclassing.\n",
    "class SciCalc(brand:String) extends Calculator(brand){\n",
    "    def log(m: Double, base: Double) = math.log(m) / math.log(base)\n",
    "}\n",
    "\n",
    "val y = new SciCalc(\"TI\")\n",
    "y.log(2.0, 3.0)"
   ]
  },
  {
   "cell_type": "code",
   "execution_count": 57,
   "metadata": {},
   "outputs": [
    {
     "data": {
      "text/plain": [
       "1.0986122886681098"
      ]
     },
     "execution_count": 57,
     "metadata": {},
     "output_type": "execute_result"
    }
   ],
   "source": [
    "class EvenMoreSciCalc(brand: String) extends SciCalc(brand) {\n",
    "  def log(m: Int): Double = log(m, math.exp(1))\n",
    "}\n",
    "\n",
    "val z = new EvenMoreSciCalc(\"Apple\")\n",
    "z.log(3)"
   ]
  },
  {
   "cell_type": "code",
   "execution_count": 58,
   "metadata": {},
   "outputs": [
    {
     "data": {
      "text/plain": [
       "0.6309297535714574"
      ]
     },
     "execution_count": 58,
     "metadata": {},
     "output_type": "execute_result"
    }
   ],
   "source": [
    "z.log(2,3)"
   ]
  },
  {
   "cell_type": "code",
   "execution_count": 61,
   "metadata": {},
   "outputs": [
    {
     "data": {
      "text/plain": [
       "defined class Shape\n"
      ]
     },
     "execution_count": 61,
     "metadata": {},
     "output_type": "execute_result"
    }
   ],
   "source": [
    "// Abstract Classes\n",
    "abstract class Shape{\n",
    "    def getArea():Int\n",
    "}"
   ]
  },
  {
   "cell_type": "code",
   "execution_count": 63,
   "metadata": {},
   "outputs": [
    {
     "ename": "<console>",
     "evalue": "13",
     "output_type": "error",
     "traceback": [
      "\u001b[1;31m<console>:13: error: overriding method getArea in class Shape of type ()Int;\u001b[0;0m",
      "\u001b[1;31m method getArea has incompatible type\u001b[0;0m",
      "\u001b[1;31m       def getArea():Double = { math.pow(r,2) * 3}\u001b[0;0m",
      "\u001b[1;31m           ^\u001b[0;0m"
     ]
    }
   ],
   "source": [
    "class Circle(r:Int) extends Shape {\n",
    "    def getArea():Double = { math.pow(r,2) * 3}\n",
    "}"
   ]
  },
  {
   "cell_type": "code",
   "execution_count": 65,
   "metadata": {},
   "outputs": [
    {
     "data": {
      "text/plain": [
       "defined class Circle\n"
      ]
     },
     "execution_count": 65,
     "metadata": {},
     "output_type": "execute_result"
    }
   ],
   "source": [
    "class Circle(r:Int) extends Shape {\n",
    "    def getArea():Int = { r * r * 3}\n",
    "}"
   ]
  },
  {
   "cell_type": "code",
   "execution_count": 69,
   "metadata": {},
   "outputs": [
    {
     "name": "stdout",
     "output_type": "stream",
     "text": [
      "12\n"
     ]
    },
    {
     "data": {
      "text/plain": [
       "null"
      ]
     },
     "execution_count": 69,
     "metadata": {},
     "output_type": "execute_result"
    }
   ],
   "source": [
    "val s = new Circle(2)\n",
    "println(s.getArea)"
   ]
  },
  {
   "cell_type": "code",
   "execution_count": 84,
   "metadata": {},
   "outputs": [
    {
     "data": {
      "text/plain": [
       "defined trait Car\n",
       "defined trait Shiny\n",
       "defined class BMW\n"
      ]
     },
     "execution_count": 84,
     "metadata": {},
     "output_type": "execute_result"
    }
   ],
   "source": [
    "// Traits\n",
    "// traits are similar to Abstract classes, collections of fields and behaviors that you can extend or mixin to your classes.\n",
    "// traits can have default implementations\n",
    "// you can also override them\n",
    "//\n",
    "// * Favor using traits. It’s handy that a class can extend several traits; a class can extend only one class.\n",
    "// * If you need a constructor parameter, use an abstract class. Abstract class constructors can take parameters; trait constructors can’t. \n",
    "//   - For example, you can’t say trait t(i: Int) {}; the i parameter is illegal.\n",
    "\n",
    "trait Car {\n",
    "    val brand: String\n",
    "    def show():Unit = println(brand) \n",
    "}\n",
    "trait Shiny {\n",
    "    val shineRefraction: Int\n",
    "}\n",
    "// extend several traits\n",
    "class BMW extends Car with Shiny{\n",
    "    val brand = \"BMW\"\n",
    "    val shineRefraction = 12\n",
    "    override def show():Unit = println(\"I'm a: \"+brand)\n",
    "}"
   ]
  },
  {
   "cell_type": "code",
   "execution_count": 85,
   "metadata": {},
   "outputs": [
    {
     "name": "stdout",
     "output_type": "stream",
     "text": [
      "I'm a: BMW\n"
     ]
    },
    {
     "data": {
      "text/plain": [
       "null"
      ]
     },
     "execution_count": 85,
     "metadata": {},
     "output_type": "execute_result"
    }
   ],
   "source": [
    "val beemr = new BMW\n",
    "beemr.show()"
   ]
  },
  {
   "cell_type": "code",
   "execution_count": 74,
   "metadata": {},
   "outputs": [
    {
     "data": {
      "text/plain": [
       "defined trait Cache\n"
      ]
     },
     "execution_count": 74,
     "metadata": {},
     "output_type": "execute_result"
    }
   ],
   "source": [
    "// Type Parameters\n",
    "// Functions can also be generic and work on any type. \n",
    "// When that occurs, you’ll see a type parameter introduced with the square bracket syntax. Here’s an example of a Cache of generic Keys and Values.\n",
    "trait Cache[K, V]{\n",
    "    def get(key: K):V\n",
    "    def put(key: K, value: V)\n",
    "    def delete(key: K)\n",
    "    def remove[K](key: K)\n",
    "}"
   ]
  },
  {
   "cell_type": "code",
   "execution_count": 86,
   "metadata": {},
   "outputs": [
    {
     "data": {
      "text/plain": [
       "$line101.$read$$iw$$iw$$iw$$iw$$iw$$iw$$iw$$iw$$iw$$iw$$iw$$iw$$iw$$iw$$iw$$iw$$iw$$iw$$iw$$iw$Main$@36441544"
      ]
     },
     "execution_count": 86,
     "metadata": {},
     "output_type": "execute_result"
    }
   ],
   "source": [
    "// Main Method\n",
    "object Main {\n",
    "  def main(args: Array[String]): Unit =\n",
    "    println(\"Hello, Scala developer!\")\n",
    "}"
   ]
  },
  {
   "cell_type": "code",
   "execution_count": null,
   "metadata": {},
   "outputs": [],
   "source": []
  }
 ],
 "metadata": {
  "kernelspec": {
   "display_name": "Scala",
   "language": "scala",
   "name": "scala"
  },
  "language_info": {
   "codemirror_mode": "text/x-scala",
   "file_extension": ".scala",
   "mimetype": "",
   "name": "Scala",
   "nbconverter_exporter": "",
   "version": "2.11.12"
  }
 },
 "nbformat": 4,
 "nbformat_minor": 2
}
